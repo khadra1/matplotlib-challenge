{
 "cells": [
  {
   "cell_type": "markdown",
   "metadata": {},
   "source": [
    "## Observations and Insights "
   ]
  },
  {
   "cell_type": "markdown",
   "metadata": {},
   "source": [
    "Below I've investigated the two datasets after merging them into one PandDataframe and then cleaning the data. After plotting and calculating this data I have concluded that:\n",
    "- there is somewhat of a medium correlation between the Tumor Volume and Weight, further plotting them reveals that there is no clear correlation between them\n",
    "- out of the six outliers 5 are female and only 1 is male. Of these 5 females, 4 are considerable younger than the other 2 mice. And these 4 are under the following Drug Regimen \n",
    "        - Propriva x 2(both above are the upper_bound of tumor volume)\n",
    "        - Capomulin x 2(both are below lower_bound of tumor volume) \n",
    "- There is an even distribution of male vs female mice\n",
    "- Ramicane and Capomulin have the heighest total number of timpoints\n",
    "- Capomulin may have the best result but that would need further investigations"
   ]
  },
  {
   "cell_type": "code",
   "execution_count": 190,
   "metadata": {},
   "outputs": [],
   "source": [
    "# Dependencies and Setup\n",
    "#%matplotlib notebook\n",
    "import matplotlib.pyplot as plt\n",
    "import pandas as pd\n",
    "from scipy.stats import linregress\n",
    "import scipy.stats as st\n",
    "import random\n",
    "import numpy as np\n",
    "import seaborn as sns\n",
    "%matplotlib inline"
   ]
  },
  {
   "cell_type": "code",
   "execution_count": 193,
   "metadata": {},
   "outputs": [],
   "source": [
    "# Study data files\n",
    "mouse_metadata_path = \"data/Mouse_metadata.csv\"\n",
    "study_results_path = \"data/Study_results.csv\"\n",
    "\n",
    "# Read the mouse data and the study results\n",
    "mouse_metadata = pd.read_csv(mouse_metadata_path)\n",
    "study_results = pd.read_csv(study_results_path)\n"
   ]
  },
  {
   "cell_type": "code",
   "execution_count": 194,
   "metadata": {},
   "outputs": [
    {
     "data": {
      "text/html": [
       "<div>\n",
       "<style scoped>\n",
       "    .dataframe tbody tr th:only-of-type {\n",
       "        vertical-align: middle;\n",
       "    }\n",
       "\n",
       "    .dataframe tbody tr th {\n",
       "        vertical-align: top;\n",
       "    }\n",
       "\n",
       "    .dataframe thead th {\n",
       "        text-align: right;\n",
       "    }\n",
       "</style>\n",
       "<table border=\"1\" class=\"dataframe\">\n",
       "  <thead>\n",
       "    <tr style=\"text-align: right;\">\n",
       "      <th></th>\n",
       "      <th>Mouse ID</th>\n",
       "      <th>Drug Regimen</th>\n",
       "      <th>Sex</th>\n",
       "      <th>Age_months</th>\n",
       "      <th>Weight (g)</th>\n",
       "      <th>Timepoint</th>\n",
       "      <th>Tumor Volume (mm3)</th>\n",
       "      <th>Metastatic Sites</th>\n",
       "    </tr>\n",
       "  </thead>\n",
       "  <tbody>\n",
       "    <tr>\n",
       "      <th>0</th>\n",
       "      <td>k403</td>\n",
       "      <td>Ramicane</td>\n",
       "      <td>Male</td>\n",
       "      <td>21</td>\n",
       "      <td>16</td>\n",
       "      <td>0</td>\n",
       "      <td>45.000000</td>\n",
       "      <td>0</td>\n",
       "    </tr>\n",
       "    <tr>\n",
       "      <th>1</th>\n",
       "      <td>k403</td>\n",
       "      <td>Ramicane</td>\n",
       "      <td>Male</td>\n",
       "      <td>21</td>\n",
       "      <td>16</td>\n",
       "      <td>5</td>\n",
       "      <td>38.825898</td>\n",
       "      <td>0</td>\n",
       "    </tr>\n",
       "    <tr>\n",
       "      <th>2</th>\n",
       "      <td>k403</td>\n",
       "      <td>Ramicane</td>\n",
       "      <td>Male</td>\n",
       "      <td>21</td>\n",
       "      <td>16</td>\n",
       "      <td>10</td>\n",
       "      <td>35.014271</td>\n",
       "      <td>1</td>\n",
       "    </tr>\n",
       "    <tr>\n",
       "      <th>3</th>\n",
       "      <td>k403</td>\n",
       "      <td>Ramicane</td>\n",
       "      <td>Male</td>\n",
       "      <td>21</td>\n",
       "      <td>16</td>\n",
       "      <td>15</td>\n",
       "      <td>34.223992</td>\n",
       "      <td>1</td>\n",
       "    </tr>\n",
       "    <tr>\n",
       "      <th>4</th>\n",
       "      <td>k403</td>\n",
       "      <td>Ramicane</td>\n",
       "      <td>Male</td>\n",
       "      <td>21</td>\n",
       "      <td>16</td>\n",
       "      <td>20</td>\n",
       "      <td>32.997729</td>\n",
       "      <td>1</td>\n",
       "    </tr>\n",
       "    <tr>\n",
       "      <th>...</th>\n",
       "      <td>...</td>\n",
       "      <td>...</td>\n",
       "      <td>...</td>\n",
       "      <td>...</td>\n",
       "      <td>...</td>\n",
       "      <td>...</td>\n",
       "      <td>...</td>\n",
       "      <td>...</td>\n",
       "    </tr>\n",
       "    <tr>\n",
       "      <th>1888</th>\n",
       "      <td>z969</td>\n",
       "      <td>Naftisol</td>\n",
       "      <td>Male</td>\n",
       "      <td>9</td>\n",
       "      <td>30</td>\n",
       "      <td>25</td>\n",
       "      <td>63.145652</td>\n",
       "      <td>2</td>\n",
       "    </tr>\n",
       "    <tr>\n",
       "      <th>1889</th>\n",
       "      <td>z969</td>\n",
       "      <td>Naftisol</td>\n",
       "      <td>Male</td>\n",
       "      <td>9</td>\n",
       "      <td>30</td>\n",
       "      <td>30</td>\n",
       "      <td>65.841013</td>\n",
       "      <td>3</td>\n",
       "    </tr>\n",
       "    <tr>\n",
       "      <th>1890</th>\n",
       "      <td>z969</td>\n",
       "      <td>Naftisol</td>\n",
       "      <td>Male</td>\n",
       "      <td>9</td>\n",
       "      <td>30</td>\n",
       "      <td>35</td>\n",
       "      <td>69.176246</td>\n",
       "      <td>4</td>\n",
       "    </tr>\n",
       "    <tr>\n",
       "      <th>1891</th>\n",
       "      <td>z969</td>\n",
       "      <td>Naftisol</td>\n",
       "      <td>Male</td>\n",
       "      <td>9</td>\n",
       "      <td>30</td>\n",
       "      <td>40</td>\n",
       "      <td>70.314904</td>\n",
       "      <td>4</td>\n",
       "    </tr>\n",
       "    <tr>\n",
       "      <th>1892</th>\n",
       "      <td>z969</td>\n",
       "      <td>Naftisol</td>\n",
       "      <td>Male</td>\n",
       "      <td>9</td>\n",
       "      <td>30</td>\n",
       "      <td>45</td>\n",
       "      <td>73.867845</td>\n",
       "      <td>4</td>\n",
       "    </tr>\n",
       "  </tbody>\n",
       "</table>\n",
       "<p>1893 rows × 8 columns</p>\n",
       "</div>"
      ],
      "text/plain": [
       "     Mouse ID Drug Regimen   Sex  Age_months  Weight (g)  Timepoint  \\\n",
       "0        k403     Ramicane  Male          21          16          0   \n",
       "1        k403     Ramicane  Male          21          16          5   \n",
       "2        k403     Ramicane  Male          21          16         10   \n",
       "3        k403     Ramicane  Male          21          16         15   \n",
       "4        k403     Ramicane  Male          21          16         20   \n",
       "...       ...          ...   ...         ...         ...        ...   \n",
       "1888     z969     Naftisol  Male           9          30         25   \n",
       "1889     z969     Naftisol  Male           9          30         30   \n",
       "1890     z969     Naftisol  Male           9          30         35   \n",
       "1891     z969     Naftisol  Male           9          30         40   \n",
       "1892     z969     Naftisol  Male           9          30         45   \n",
       "\n",
       "      Tumor Volume (mm3)  Metastatic Sites  \n",
       "0              45.000000                 0  \n",
       "1              38.825898                 0  \n",
       "2              35.014271                 1  \n",
       "3              34.223992                 1  \n",
       "4              32.997729                 1  \n",
       "...                  ...               ...  \n",
       "1888           63.145652                 2  \n",
       "1889           65.841013                 3  \n",
       "1890           69.176246                 4  \n",
       "1891           70.314904                 4  \n",
       "1892           73.867845                 4  \n",
       "\n",
       "[1893 rows x 8 columns]"
      ]
     },
     "execution_count": 194,
     "metadata": {},
     "output_type": "execute_result"
    }
   ],
   "source": [
    "\n",
    "# Combine the data into a single dataset\n",
    "\n",
    "mouse_data_complete = pd.merge(mouse_metadata, study_results, how='left', on=['Mouse ID','Mouse ID'])\n",
    "\n",
    "# Display the data table for preview\n",
    "\n",
    "mouse_data_complete"
   ]
  },
  {
   "cell_type": "code",
   "execution_count": 195,
   "metadata": {},
   "outputs": [
    {
     "data": {
      "text/plain": [
       "249"
      ]
     },
     "execution_count": 195,
     "metadata": {},
     "output_type": "execute_result"
    }
   ],
   "source": [
    "# Checking the number of mice.\n",
    "total_mice = mouse_data_complete['Mouse ID'].nunique()\n",
    "total_mice"
   ]
  },
  {
   "cell_type": "code",
   "execution_count": 196,
   "metadata": {},
   "outputs": [
    {
     "data": {
      "text/plain": [
       "0       False\n",
       "1       False\n",
       "2       False\n",
       "3       False\n",
       "4       False\n",
       "        ...  \n",
       "1888    False\n",
       "1889    False\n",
       "1890    False\n",
       "1891    False\n",
       "1892    False\n",
       "Length: 1893, dtype: bool"
      ]
     },
     "execution_count": 196,
     "metadata": {},
     "output_type": "execute_result"
    }
   ],
   "source": [
    "# Getting the duplicate mice by ID number that shows up for Mouse ID and Timepoint. \n",
    "mouse_data_duplicates = mouse_data_complete.duplicated(subset=['Mouse ID','Timepoint'])\n",
    "\n",
    "mouse_data_duplicates"
   ]
  },
  {
   "cell_type": "code",
   "execution_count": 197,
   "metadata": {},
   "outputs": [
    {
     "data": {
      "text/html": [
       "<div>\n",
       "<style scoped>\n",
       "    .dataframe tbody tr th:only-of-type {\n",
       "        vertical-align: middle;\n",
       "    }\n",
       "\n",
       "    .dataframe tbody tr th {\n",
       "        vertical-align: top;\n",
       "    }\n",
       "\n",
       "    .dataframe thead th {\n",
       "        text-align: right;\n",
       "    }\n",
       "</style>\n",
       "<table border=\"1\" class=\"dataframe\">\n",
       "  <thead>\n",
       "    <tr style=\"text-align: right;\">\n",
       "      <th></th>\n",
       "      <th>Mouse ID</th>\n",
       "      <th>Drug Regimen</th>\n",
       "      <th>Sex</th>\n",
       "      <th>Age_months</th>\n",
       "      <th>Weight (g)</th>\n",
       "      <th>Timepoint</th>\n",
       "      <th>Tumor Volume (mm3)</th>\n",
       "      <th>Metastatic Sites</th>\n",
       "    </tr>\n",
       "  </thead>\n",
       "  <tbody>\n",
       "    <tr>\n",
       "      <th>909</th>\n",
       "      <td>g989</td>\n",
       "      <td>Propriva</td>\n",
       "      <td>Female</td>\n",
       "      <td>21</td>\n",
       "      <td>26</td>\n",
       "      <td>0</td>\n",
       "      <td>45.000000</td>\n",
       "      <td>0</td>\n",
       "    </tr>\n",
       "    <tr>\n",
       "      <th>911</th>\n",
       "      <td>g989</td>\n",
       "      <td>Propriva</td>\n",
       "      <td>Female</td>\n",
       "      <td>21</td>\n",
       "      <td>26</td>\n",
       "      <td>5</td>\n",
       "      <td>47.570392</td>\n",
       "      <td>0</td>\n",
       "    </tr>\n",
       "    <tr>\n",
       "      <th>913</th>\n",
       "      <td>g989</td>\n",
       "      <td>Propriva</td>\n",
       "      <td>Female</td>\n",
       "      <td>21</td>\n",
       "      <td>26</td>\n",
       "      <td>10</td>\n",
       "      <td>49.880528</td>\n",
       "      <td>0</td>\n",
       "    </tr>\n",
       "    <tr>\n",
       "      <th>915</th>\n",
       "      <td>g989</td>\n",
       "      <td>Propriva</td>\n",
       "      <td>Female</td>\n",
       "      <td>21</td>\n",
       "      <td>26</td>\n",
       "      <td>15</td>\n",
       "      <td>53.442020</td>\n",
       "      <td>0</td>\n",
       "    </tr>\n",
       "    <tr>\n",
       "      <th>917</th>\n",
       "      <td>g989</td>\n",
       "      <td>Propriva</td>\n",
       "      <td>Female</td>\n",
       "      <td>21</td>\n",
       "      <td>26</td>\n",
       "      <td>20</td>\n",
       "      <td>54.657650</td>\n",
       "      <td>1</td>\n",
       "    </tr>\n",
       "  </tbody>\n",
       "</table>\n",
       "</div>"
      ],
      "text/plain": [
       "    Mouse ID Drug Regimen     Sex  Age_months  Weight (g)  Timepoint  \\\n",
       "909     g989     Propriva  Female          21          26          0   \n",
       "911     g989     Propriva  Female          21          26          5   \n",
       "913     g989     Propriva  Female          21          26         10   \n",
       "915     g989     Propriva  Female          21          26         15   \n",
       "917     g989     Propriva  Female          21          26         20   \n",
       "\n",
       "     Tumor Volume (mm3)  Metastatic Sites  \n",
       "909           45.000000                 0  \n",
       "911           47.570392                 0  \n",
       "913           49.880528                 0  \n",
       "915           53.442020                 0  \n",
       "917           54.657650                 1  "
      ]
     },
     "execution_count": 197,
     "metadata": {},
     "output_type": "execute_result"
    }
   ],
   "source": [
    "# Getting the duplicate mice by ID number that shows up for Mouse ID and Timepoint. \n",
    "mouse_data_complete.loc[mouse_data_duplicates]"
   ]
  },
  {
   "cell_type": "code",
   "execution_count": 198,
   "metadata": {},
   "outputs": [
    {
     "data": {
      "text/html": [
       "<div>\n",
       "<style scoped>\n",
       "    .dataframe tbody tr th:only-of-type {\n",
       "        vertical-align: middle;\n",
       "    }\n",
       "\n",
       "    .dataframe tbody tr th {\n",
       "        vertical-align: top;\n",
       "    }\n",
       "\n",
       "    .dataframe thead th {\n",
       "        text-align: right;\n",
       "    }\n",
       "</style>\n",
       "<table border=\"1\" class=\"dataframe\">\n",
       "  <thead>\n",
       "    <tr style=\"text-align: right;\">\n",
       "      <th></th>\n",
       "      <th>Mouse ID</th>\n",
       "      <th>Drug Regimen</th>\n",
       "      <th>Sex</th>\n",
       "      <th>Age_months</th>\n",
       "      <th>Weight (g)</th>\n",
       "      <th>Timepoint</th>\n",
       "      <th>Tumor Volume (mm3)</th>\n",
       "      <th>Metastatic Sites</th>\n",
       "    </tr>\n",
       "  </thead>\n",
       "  <tbody>\n",
       "    <tr>\n",
       "      <th>909</th>\n",
       "      <td>g989</td>\n",
       "      <td>Propriva</td>\n",
       "      <td>Female</td>\n",
       "      <td>21</td>\n",
       "      <td>26</td>\n",
       "      <td>0</td>\n",
       "      <td>45.000000</td>\n",
       "      <td>0</td>\n",
       "    </tr>\n",
       "    <tr>\n",
       "      <th>911</th>\n",
       "      <td>g989</td>\n",
       "      <td>Propriva</td>\n",
       "      <td>Female</td>\n",
       "      <td>21</td>\n",
       "      <td>26</td>\n",
       "      <td>5</td>\n",
       "      <td>47.570392</td>\n",
       "      <td>0</td>\n",
       "    </tr>\n",
       "    <tr>\n",
       "      <th>913</th>\n",
       "      <td>g989</td>\n",
       "      <td>Propriva</td>\n",
       "      <td>Female</td>\n",
       "      <td>21</td>\n",
       "      <td>26</td>\n",
       "      <td>10</td>\n",
       "      <td>49.880528</td>\n",
       "      <td>0</td>\n",
       "    </tr>\n",
       "    <tr>\n",
       "      <th>915</th>\n",
       "      <td>g989</td>\n",
       "      <td>Propriva</td>\n",
       "      <td>Female</td>\n",
       "      <td>21</td>\n",
       "      <td>26</td>\n",
       "      <td>15</td>\n",
       "      <td>53.442020</td>\n",
       "      <td>0</td>\n",
       "    </tr>\n",
       "    <tr>\n",
       "      <th>917</th>\n",
       "      <td>g989</td>\n",
       "      <td>Propriva</td>\n",
       "      <td>Female</td>\n",
       "      <td>21</td>\n",
       "      <td>26</td>\n",
       "      <td>20</td>\n",
       "      <td>54.657650</td>\n",
       "      <td>1</td>\n",
       "    </tr>\n",
       "  </tbody>\n",
       "</table>\n",
       "</div>"
      ],
      "text/plain": [
       "    Mouse ID Drug Regimen     Sex  Age_months  Weight (g)  Timepoint  \\\n",
       "909     g989     Propriva  Female          21          26          0   \n",
       "911     g989     Propriva  Female          21          26          5   \n",
       "913     g989     Propriva  Female          21          26         10   \n",
       "915     g989     Propriva  Female          21          26         15   \n",
       "917     g989     Propriva  Female          21          26         20   \n",
       "\n",
       "     Tumor Volume (mm3)  Metastatic Sites  \n",
       "909           45.000000                 0  \n",
       "911           47.570392                 0  \n",
       "913           49.880528                 0  \n",
       "915           53.442020                 0  \n",
       "917           54.657650                 1  "
      ]
     },
     "execution_count": 198,
     "metadata": {},
     "output_type": "execute_result"
    }
   ],
   "source": [
    "# Optional: Get all the data for the duplicate mouse ID. \n",
    "\n",
    "mouse_data_complete.loc[mouse_data_duplicates]"
   ]
  },
  {
   "cell_type": "code",
   "execution_count": 199,
   "metadata": {},
   "outputs": [
    {
     "data": {
      "text/html": [
       "<div>\n",
       "<style scoped>\n",
       "    .dataframe tbody tr th:only-of-type {\n",
       "        vertical-align: middle;\n",
       "    }\n",
       "\n",
       "    .dataframe tbody tr th {\n",
       "        vertical-align: top;\n",
       "    }\n",
       "\n",
       "    .dataframe thead th {\n",
       "        text-align: right;\n",
       "    }\n",
       "</style>\n",
       "<table border=\"1\" class=\"dataframe\">\n",
       "  <thead>\n",
       "    <tr style=\"text-align: right;\">\n",
       "      <th></th>\n",
       "      <th>Mouse ID</th>\n",
       "      <th>Drug Regimen</th>\n",
       "      <th>Sex</th>\n",
       "      <th>Age_months</th>\n",
       "      <th>Weight (g)</th>\n",
       "      <th>Timepoint</th>\n",
       "      <th>Tumor Volume (mm3)</th>\n",
       "      <th>Metastatic Sites</th>\n",
       "    </tr>\n",
       "  </thead>\n",
       "  <tbody>\n",
       "    <tr>\n",
       "      <th>0</th>\n",
       "      <td>k403</td>\n",
       "      <td>Ramicane</td>\n",
       "      <td>Male</td>\n",
       "      <td>21</td>\n",
       "      <td>16</td>\n",
       "      <td>0</td>\n",
       "      <td>45.000000</td>\n",
       "      <td>0</td>\n",
       "    </tr>\n",
       "    <tr>\n",
       "      <th>1</th>\n",
       "      <td>k403</td>\n",
       "      <td>Ramicane</td>\n",
       "      <td>Male</td>\n",
       "      <td>21</td>\n",
       "      <td>16</td>\n",
       "      <td>5</td>\n",
       "      <td>38.825898</td>\n",
       "      <td>0</td>\n",
       "    </tr>\n",
       "    <tr>\n",
       "      <th>2</th>\n",
       "      <td>k403</td>\n",
       "      <td>Ramicane</td>\n",
       "      <td>Male</td>\n",
       "      <td>21</td>\n",
       "      <td>16</td>\n",
       "      <td>10</td>\n",
       "      <td>35.014271</td>\n",
       "      <td>1</td>\n",
       "    </tr>\n",
       "    <tr>\n",
       "      <th>3</th>\n",
       "      <td>k403</td>\n",
       "      <td>Ramicane</td>\n",
       "      <td>Male</td>\n",
       "      <td>21</td>\n",
       "      <td>16</td>\n",
       "      <td>15</td>\n",
       "      <td>34.223992</td>\n",
       "      <td>1</td>\n",
       "    </tr>\n",
       "    <tr>\n",
       "      <th>4</th>\n",
       "      <td>k403</td>\n",
       "      <td>Ramicane</td>\n",
       "      <td>Male</td>\n",
       "      <td>21</td>\n",
       "      <td>16</td>\n",
       "      <td>20</td>\n",
       "      <td>32.997729</td>\n",
       "      <td>1</td>\n",
       "    </tr>\n",
       "    <tr>\n",
       "      <th>...</th>\n",
       "      <td>...</td>\n",
       "      <td>...</td>\n",
       "      <td>...</td>\n",
       "      <td>...</td>\n",
       "      <td>...</td>\n",
       "      <td>...</td>\n",
       "      <td>...</td>\n",
       "      <td>...</td>\n",
       "    </tr>\n",
       "    <tr>\n",
       "      <th>1888</th>\n",
       "      <td>z969</td>\n",
       "      <td>Naftisol</td>\n",
       "      <td>Male</td>\n",
       "      <td>9</td>\n",
       "      <td>30</td>\n",
       "      <td>25</td>\n",
       "      <td>63.145652</td>\n",
       "      <td>2</td>\n",
       "    </tr>\n",
       "    <tr>\n",
       "      <th>1889</th>\n",
       "      <td>z969</td>\n",
       "      <td>Naftisol</td>\n",
       "      <td>Male</td>\n",
       "      <td>9</td>\n",
       "      <td>30</td>\n",
       "      <td>30</td>\n",
       "      <td>65.841013</td>\n",
       "      <td>3</td>\n",
       "    </tr>\n",
       "    <tr>\n",
       "      <th>1890</th>\n",
       "      <td>z969</td>\n",
       "      <td>Naftisol</td>\n",
       "      <td>Male</td>\n",
       "      <td>9</td>\n",
       "      <td>30</td>\n",
       "      <td>35</td>\n",
       "      <td>69.176246</td>\n",
       "      <td>4</td>\n",
       "    </tr>\n",
       "    <tr>\n",
       "      <th>1891</th>\n",
       "      <td>z969</td>\n",
       "      <td>Naftisol</td>\n",
       "      <td>Male</td>\n",
       "      <td>9</td>\n",
       "      <td>30</td>\n",
       "      <td>40</td>\n",
       "      <td>70.314904</td>\n",
       "      <td>4</td>\n",
       "    </tr>\n",
       "    <tr>\n",
       "      <th>1892</th>\n",
       "      <td>z969</td>\n",
       "      <td>Naftisol</td>\n",
       "      <td>Male</td>\n",
       "      <td>9</td>\n",
       "      <td>30</td>\n",
       "      <td>45</td>\n",
       "      <td>73.867845</td>\n",
       "      <td>4</td>\n",
       "    </tr>\n",
       "  </tbody>\n",
       "</table>\n",
       "<p>1888 rows × 8 columns</p>\n",
       "</div>"
      ],
      "text/plain": [
       "     Mouse ID Drug Regimen   Sex  Age_months  Weight (g)  Timepoint  \\\n",
       "0        k403     Ramicane  Male          21          16          0   \n",
       "1        k403     Ramicane  Male          21          16          5   \n",
       "2        k403     Ramicane  Male          21          16         10   \n",
       "3        k403     Ramicane  Male          21          16         15   \n",
       "4        k403     Ramicane  Male          21          16         20   \n",
       "...       ...          ...   ...         ...         ...        ...   \n",
       "1888     z969     Naftisol  Male           9          30         25   \n",
       "1889     z969     Naftisol  Male           9          30         30   \n",
       "1890     z969     Naftisol  Male           9          30         35   \n",
       "1891     z969     Naftisol  Male           9          30         40   \n",
       "1892     z969     Naftisol  Male           9          30         45   \n",
       "\n",
       "      Tumor Volume (mm3)  Metastatic Sites  \n",
       "0              45.000000                 0  \n",
       "1              38.825898                 0  \n",
       "2              35.014271                 1  \n",
       "3              34.223992                 1  \n",
       "4              32.997729                 1  \n",
       "...                  ...               ...  \n",
       "1888           63.145652                 2  \n",
       "1889           65.841013                 3  \n",
       "1890           69.176246                 4  \n",
       "1891           70.314904                 4  \n",
       "1892           73.867845                 4  \n",
       "\n",
       "[1888 rows x 8 columns]"
      ]
     },
     "execution_count": 199,
     "metadata": {},
     "output_type": "execute_result"
    }
   ],
   "source": [
    "# Create a clean DataFrame by dropping the duplicate mouse by its ID.\n",
    "mouse_data_post_drop_duplicates = mouse_data_complete.drop_duplicates(subset=['Mouse ID','Timepoint'],inplace=False)\n",
    "mouse_data_complete = mouse_data_post_drop_duplicates\n",
    "mouse_data_complete"
   ]
  },
  {
   "cell_type": "code",
   "execution_count": 200,
   "metadata": {},
   "outputs": [
    {
     "data": {
      "text/plain": [
       "249"
      ]
     },
     "execution_count": 200,
     "metadata": {},
     "output_type": "execute_result"
    }
   ],
   "source": [
    "# Checking the number of mice in the clean DataFrame.\n",
    "total_mice_clean = mouse_data_complete['Mouse ID'].nunique()\n",
    "total_mice_clean"
   ]
  },
  {
   "cell_type": "markdown",
   "metadata": {},
   "source": [
    "## Summary Statistics"
   ]
  },
  {
   "cell_type": "code",
   "execution_count": 201,
   "metadata": {},
   "outputs": [
    {
     "data": {
      "text/html": [
       "<div>\n",
       "<style scoped>\n",
       "    .dataframe tbody tr th:only-of-type {\n",
       "        vertical-align: middle;\n",
       "    }\n",
       "\n",
       "    .dataframe tbody tr th {\n",
       "        vertical-align: top;\n",
       "    }\n",
       "\n",
       "    .dataframe thead th {\n",
       "        text-align: right;\n",
       "    }\n",
       "</style>\n",
       "<table border=\"1\" class=\"dataframe\">\n",
       "  <thead>\n",
       "    <tr style=\"text-align: right;\">\n",
       "      <th></th>\n",
       "      <th>Tumor Volume (Mean)</th>\n",
       "      <th>Tumor Volume (Median)</th>\n",
       "      <th>Tumor Volume (Variance)</th>\n",
       "      <th>Tumor Volume (Standard Deviation)</th>\n",
       "      <th>Tumor Volume (SEM)</th>\n",
       "    </tr>\n",
       "    <tr>\n",
       "      <th>Drug Regimen</th>\n",
       "      <th></th>\n",
       "      <th></th>\n",
       "      <th></th>\n",
       "      <th></th>\n",
       "      <th></th>\n",
       "    </tr>\n",
       "  </thead>\n",
       "  <tbody>\n",
       "    <tr>\n",
       "      <th>Capomulin</th>\n",
       "      <td>40.675741</td>\n",
       "      <td>41.557809</td>\n",
       "      <td>24.947764</td>\n",
       "      <td>4.994774</td>\n",
       "      <td>0.329346</td>\n",
       "    </tr>\n",
       "    <tr>\n",
       "      <th>Ceftamin</th>\n",
       "      <td>52.591172</td>\n",
       "      <td>51.776157</td>\n",
       "      <td>39.290177</td>\n",
       "      <td>6.268188</td>\n",
       "      <td>0.469821</td>\n",
       "    </tr>\n",
       "    <tr>\n",
       "      <th>Infubinol</th>\n",
       "      <td>52.884795</td>\n",
       "      <td>51.820584</td>\n",
       "      <td>43.128684</td>\n",
       "      <td>6.567243</td>\n",
       "      <td>0.492236</td>\n",
       "    </tr>\n",
       "    <tr>\n",
       "      <th>Ketapril</th>\n",
       "      <td>55.235638</td>\n",
       "      <td>53.698743</td>\n",
       "      <td>68.553577</td>\n",
       "      <td>8.279709</td>\n",
       "      <td>0.603860</td>\n",
       "    </tr>\n",
       "    <tr>\n",
       "      <th>Naftisol</th>\n",
       "      <td>54.331565</td>\n",
       "      <td>52.509285</td>\n",
       "      <td>66.173479</td>\n",
       "      <td>8.134708</td>\n",
       "      <td>0.596466</td>\n",
       "    </tr>\n",
       "  </tbody>\n",
       "</table>\n",
       "</div>"
      ],
      "text/plain": [
       "              Tumor Volume (Mean)  Tumor Volume (Median)  \\\n",
       "Drug Regimen                                               \n",
       "Capomulin               40.675741              41.557809   \n",
       "Ceftamin                52.591172              51.776157   \n",
       "Infubinol               52.884795              51.820584   \n",
       "Ketapril                55.235638              53.698743   \n",
       "Naftisol                54.331565              52.509285   \n",
       "\n",
       "              Tumor Volume (Variance)  Tumor Volume (Standard Deviation)  \\\n",
       "Drug Regimen                                                               \n",
       "Capomulin                   24.947764                           4.994774   \n",
       "Ceftamin                    39.290177                           6.268188   \n",
       "Infubinol                   43.128684                           6.567243   \n",
       "Ketapril                    68.553577                           8.279709   \n",
       "Naftisol                    66.173479                           8.134708   \n",
       "\n",
       "              Tumor Volume (SEM)  \n",
       "Drug Regimen                      \n",
       "Capomulin               0.329346  \n",
       "Ceftamin                0.469821  \n",
       "Infubinol               0.492236  \n",
       "Ketapril                0.603860  \n",
       "Naftisol                0.596466  "
      ]
     },
     "execution_count": 201,
     "metadata": {},
     "output_type": "execute_result"
    }
   ],
   "source": [
    "# Generate a summary statistics table of mean, median, variance, standard deviation, and SEM of the tumor volume for each regimen\n",
    "\n",
    "# Use groupby and summary statistical methods to calculate the following properties of each drug regimen: \n",
    "# mean, median, variance, standard deviation, and SEM of the tumor volume. \n",
    "# Assemble the resulting series into a single summary dataframe.\n",
    "\n",
    "drug_regimen_statistics = mouse_data_complete.groupby('Drug Regimen')\n",
    "drug_regimen_mean = drug_regimen_statistics['Tumor Volume (mm3)'].mean()\n",
    "drug_regimen_median = drug_regimen_statistics['Tumor Volume (mm3)'].median()\n",
    "drug_regimen_variance = drug_regimen_statistics['Tumor Volume (mm3)'].var()\n",
    "drug_regimen_stdev = drug_regimen_statistics['Tumor Volume (mm3)'].std()\n",
    "drug_regimen_SEM = drug_regimen_statistics['Tumor Volume (mm3)'].sem()\n",
    "tumor_volume_summary = pd.DataFrame({'Tumor Volume (Mean)': drug_regimen_mean,\n",
    "                                     'Tumor Volume (Median)': drug_regimen_median,\n",
    "                                     'Tumor Volume (Variance)':drug_regimen_variance,\n",
    "                                     'Tumor Volume (Standard Deviation)':drug_regimen_stdev,\n",
    "                                     'Tumor Volume (SEM)':drug_regimen_SEM \n",
    "                                     })\n",
    "\n",
    "tumor_volume_summary.head()\n"
   ]
  },
  {
   "cell_type": "code",
   "execution_count": 202,
   "metadata": {},
   "outputs": [
    {
     "data": {
      "text/html": [
       "<div>\n",
       "<style scoped>\n",
       "    .dataframe tbody tr th:only-of-type {\n",
       "        vertical-align: middle;\n",
       "    }\n",
       "\n",
       "    .dataframe tbody tr th {\n",
       "        vertical-align: top;\n",
       "    }\n",
       "\n",
       "    .dataframe thead th {\n",
       "        text-align: right;\n",
       "    }\n",
       "</style>\n",
       "<table border=\"1\" class=\"dataframe\">\n",
       "  <thead>\n",
       "    <tr style=\"text-align: right;\">\n",
       "      <th></th>\n",
       "      <th>Tumor Volume (Mean)</th>\n",
       "      <th>Tumor Volume (Median)</th>\n",
       "      <th>Tumor Volume (Variance)</th>\n",
       "      <th>Tumor Volume (Standard Deviation)</th>\n",
       "      <th>Tumor Volume (SEM)</th>\n",
       "    </tr>\n",
       "    <tr>\n",
       "      <th>Drug Regimen</th>\n",
       "      <th></th>\n",
       "      <th></th>\n",
       "      <th></th>\n",
       "      <th></th>\n",
       "      <th></th>\n",
       "    </tr>\n",
       "  </thead>\n",
       "  <tbody>\n",
       "    <tr>\n",
       "      <th>Capomulin</th>\n",
       "      <td>40.675741</td>\n",
       "      <td>41.557809</td>\n",
       "      <td>24.947764</td>\n",
       "      <td>4.994774</td>\n",
       "      <td>0.329346</td>\n",
       "    </tr>\n",
       "    <tr>\n",
       "      <th>Ceftamin</th>\n",
       "      <td>52.591172</td>\n",
       "      <td>51.776157</td>\n",
       "      <td>39.290177</td>\n",
       "      <td>6.268188</td>\n",
       "      <td>0.469821</td>\n",
       "    </tr>\n",
       "    <tr>\n",
       "      <th>Infubinol</th>\n",
       "      <td>52.884795</td>\n",
       "      <td>51.820584</td>\n",
       "      <td>43.128684</td>\n",
       "      <td>6.567243</td>\n",
       "      <td>0.492236</td>\n",
       "    </tr>\n",
       "    <tr>\n",
       "      <th>Ketapril</th>\n",
       "      <td>55.235638</td>\n",
       "      <td>53.698743</td>\n",
       "      <td>68.553577</td>\n",
       "      <td>8.279709</td>\n",
       "      <td>0.603860</td>\n",
       "    </tr>\n",
       "    <tr>\n",
       "      <th>Naftisol</th>\n",
       "      <td>54.331565</td>\n",
       "      <td>52.509285</td>\n",
       "      <td>66.173479</td>\n",
       "      <td>8.134708</td>\n",
       "      <td>0.596466</td>\n",
       "    </tr>\n",
       "  </tbody>\n",
       "</table>\n",
       "</div>"
      ],
      "text/plain": [
       "              Tumor Volume (Mean)  Tumor Volume (Median)  \\\n",
       "Drug Regimen                                               \n",
       "Capomulin               40.675741              41.557809   \n",
       "Ceftamin                52.591172              51.776157   \n",
       "Infubinol               52.884795              51.820584   \n",
       "Ketapril                55.235638              53.698743   \n",
       "Naftisol                54.331565              52.509285   \n",
       "\n",
       "              Tumor Volume (Variance)  Tumor Volume (Standard Deviation)  \\\n",
       "Drug Regimen                                                               \n",
       "Capomulin                   24.947764                           4.994774   \n",
       "Ceftamin                    39.290177                           6.268188   \n",
       "Infubinol                   43.128684                           6.567243   \n",
       "Ketapril                    68.553577                           8.279709   \n",
       "Naftisol                    66.173479                           8.134708   \n",
       "\n",
       "              Tumor Volume (SEM)  \n",
       "Drug Regimen                      \n",
       "Capomulin               0.329346  \n",
       "Ceftamin                0.469821  \n",
       "Infubinol               0.492236  \n",
       "Ketapril                0.603860  \n",
       "Naftisol                0.596466  "
      ]
     },
     "execution_count": 202,
     "metadata": {},
     "output_type": "execute_result"
    }
   ],
   "source": [
    "# Generate a summary statistics table of mean, median, variance, standard deviation, and SEM of the tumor volume for each regimen\n",
    "\n",
    "# Using the aggregation method, produce the same summary statistics in a single line\n",
    "tumor_summary_single = pd.DataFrame({'Tumor Volume (Mean)': drug_regimen_statistics['Tumor Volume (mm3)'].mean(),\n",
    "                                     'Tumor Volume (Median)': drug_regimen_statistics['Tumor Volume (mm3)'].median(),\n",
    "                                     'Tumor Volume (Variance)': drug_regimen_statistics['Tumor Volume (mm3)'].var(),\n",
    "                                     'Tumor Volume (Standard Deviation)':drug_regimen_statistics['Tumor Volume (mm3)'].std(),\n",
    "                                     'Tumor Volume (SEM)': drug_regimen_statistics['Tumor Volume (mm3)'].sem() \n",
    "                                     })\n",
    "\n",
    "tumor_summary_single.head()"
   ]
  },
  {
   "cell_type": "markdown",
   "metadata": {},
   "source": [
    "## Bar and Pie Charts"
   ]
  },
  {
   "cell_type": "code",
   "execution_count": 203,
   "metadata": {},
   "outputs": [
    {
     "data": {
      "text/plain": [
       "<AxesSubplot:xlabel='Drug Regimen'>"
      ]
     },
     "execution_count": 203,
     "metadata": {},
     "output_type": "execute_result"
    },
    {
     "data": {
      "image/png": "[encoded data removed]",
      "text/plain": [
       "<Figure size 432x288 with 1 Axes>"
      ]
     },
     "metadata": {
      "needs_background": "light"
     },
     "output_type": "display_data"
    }
   ],
   "source": [
    "# Generate a bar plot showing the total number of timepoints for all mice tested for each drug regimen using Pandas.\n",
    "total_timepoints = mouse_data_complete[['Drug Regimen', 'Timepoint']].groupby('Drug Regimen').count()\n",
    "total_timepoints\n",
    "\n",
    "total_timepoints.plot(kind='bar', legend=True,alpha=0.75, rot=45)"
   ]
  },
  {
   "cell_type": "code",
   "execution_count": 204,
   "metadata": {},
   "outputs": [
    {
     "data": {
      "text/html": [
       "<div>\n",
       "<style scoped>\n",
       "    .dataframe tbody tr th:only-of-type {\n",
       "        vertical-align: middle;\n",
       "    }\n",
       "\n",
       "    .dataframe tbody tr th {\n",
       "        vertical-align: top;\n",
       "    }\n",
       "\n",
       "    .dataframe thead th {\n",
       "        text-align: right;\n",
       "    }\n",
       "</style>\n",
       "<table border=\"1\" class=\"dataframe\">\n",
       "  <thead>\n",
       "    <tr style=\"text-align: right;\">\n",
       "      <th></th>\n",
       "      <th>Drug Regimen</th>\n",
       "      <th>Timepoint</th>\n",
       "    </tr>\n",
       "  </thead>\n",
       "  <tbody>\n",
       "    <tr>\n",
       "      <th>0</th>\n",
       "      <td>Capomulin</td>\n",
       "      <td>230</td>\n",
       "    </tr>\n",
       "    <tr>\n",
       "      <th>1</th>\n",
       "      <td>Ceftamin</td>\n",
       "      <td>178</td>\n",
       "    </tr>\n",
       "    <tr>\n",
       "      <th>2</th>\n",
       "      <td>Infubinol</td>\n",
       "      <td>178</td>\n",
       "    </tr>\n",
       "    <tr>\n",
       "      <th>3</th>\n",
       "      <td>Ketapril</td>\n",
       "      <td>188</td>\n",
       "    </tr>\n",
       "    <tr>\n",
       "      <th>4</th>\n",
       "      <td>Naftisol</td>\n",
       "      <td>186</td>\n",
       "    </tr>\n",
       "    <tr>\n",
       "      <th>5</th>\n",
       "      <td>Placebo</td>\n",
       "      <td>181</td>\n",
       "    </tr>\n",
       "    <tr>\n",
       "      <th>6</th>\n",
       "      <td>Propriva</td>\n",
       "      <td>156</td>\n",
       "    </tr>\n",
       "    <tr>\n",
       "      <th>7</th>\n",
       "      <td>Ramicane</td>\n",
       "      <td>228</td>\n",
       "    </tr>\n",
       "    <tr>\n",
       "      <th>8</th>\n",
       "      <td>Stelasyn</td>\n",
       "      <td>181</td>\n",
       "    </tr>\n",
       "    <tr>\n",
       "      <th>9</th>\n",
       "      <td>Zoniferol</td>\n",
       "      <td>182</td>\n",
       "    </tr>\n",
       "  </tbody>\n",
       "</table>\n",
       "</div>"
      ],
      "text/plain": [
       "  Drug Regimen  Timepoint\n",
       "0    Capomulin        230\n",
       "1     Ceftamin        178\n",
       "2    Infubinol        178\n",
       "3     Ketapril        188\n",
       "4     Naftisol        186\n",
       "5      Placebo        181\n",
       "6     Propriva        156\n",
       "7     Ramicane        228\n",
       "8     Stelasyn        181\n",
       "9    Zoniferol        182"
      ]
     },
     "execution_count": 204,
     "metadata": {},
     "output_type": "execute_result"
    }
   ],
   "source": [
    "total_timepoints=total_timepoints.reset_index(0)\n",
    "total_timepoints"
   ]
  },
  {
   "cell_type": "code",
   "execution_count": 205,
   "metadata": {},
   "outputs": [
    {
     "data": {
      "image/png": "[encoded data removed]",
      "text/plain": [
       "<Figure size 432x288 with 1 Axes>"
      ]
     },
     "metadata": {
      "needs_background": "light"
     },
     "output_type": "display_data"
    }
   ],
   "source": [
    "# Generate a bar plot showing the total number of timepoints for all mice tested for each drug regimen using pyplot.\n",
    "plt.bar(total_timepoints['Drug Regimen'],total_timepoints['Timepoint'], facecolor=\"red\", alpha=0.75, align=\"center\")\n",
    "plt.xticks(total_timepoints['Drug Regimen'],rotation=45)\n",
    "plt.title('Drug Regimen Total Timepoints')\n",
    "plt.xlabel('Drug Regimen')\n",
    "plt.ylabel('Total Number of Timepoints')\n",
    "plt.tight_layout()\n",
    "plt.show()"
   ]
  },
  {
   "cell_type": "code",
   "execution_count": 206,
   "metadata": {},
   "outputs": [
    {
     "data": {
      "image/png": "[encoded data removed]",
      "text/plain": [
       "<Figure size 432x288 with 1 Axes>"
      ]
     },
     "metadata": {},
     "output_type": "display_data"
    }
   ],
   "source": [
    "# Generate a pie plot showing the distribution of female versus male mice using Pandas\n",
    "mouse_by_sex = mouse_data_complete.groupby(\"Sex\")\n",
    "mouse_by_sex = mouse_by_sex['Sex'].count()\n",
    "mouse_by_sex.plot(kind='pie',colors=['lightskyblue','yellowgreen'], \n",
    "                  legend=True,title='Mice Sex Distribution', ylabel='',\n",
    "                  labeldistance=None)\n",
    "plt.show()"
   ]
  },
  {
   "cell_type": "code",
   "execution_count": 212,
   "metadata": {},
   "outputs": [
    {
     "data": {
      "image/png": "[encoded data removed]",
      "text/plain": [
       "<Figure size 432x288 with 1 Axes>"
      ]
     },
     "metadata": {},
     "output_type": "display_data"
    }
   ],
   "source": [
    "# Generate a pie plot showing the distribution of female versus male mice using pyplot\n",
    "plt.title('Mice Sex Distribution')\n",
    "plt.pie(mouse_by_sex, colors=['red','yellow'])\n",
    "labels= ['Female', 'Male']\n",
    "plt.legend( labels, loc=\"best\")\n",
    "plt.axis(\"equal\")\n",
    "plt.show()"
   ]
  },
  {
   "cell_type": "markdown",
   "metadata": {},
   "source": [
    "## Quartiles, Outliers and Boxplots"
   ]
  },
  {
   "cell_type": "code",
   "execution_count": 219,
   "metadata": {},
   "outputs": [
    {
     "name": "stderr",
     "output_type": "stream",
     "text": [
      "/Applications/anaconda3/envs/PythonData/lib/python3.7/site-packages/ipykernel_launcher.py:8: FutureWarning: Indexing with multiple keys (implicitly converted to a tuple of keys) will be deprecated, use a list instead.\n",
      "  \n"
     ]
    },
    {
     "data": {
      "text/html": [
       "<div>\n",
       "<style scoped>\n",
       "    .dataframe tbody tr th:only-of-type {\n",
       "        vertical-align: middle;\n",
       "    }\n",
       "\n",
       "    .dataframe tbody tr th {\n",
       "        vertical-align: top;\n",
       "    }\n",
       "\n",
       "    .dataframe thead th {\n",
       "        text-align: right;\n",
       "    }\n",
       "</style>\n",
       "<table border=\"1\" class=\"dataframe\">\n",
       "  <thead>\n",
       "    <tr style=\"text-align: right;\">\n",
       "      <th></th>\n",
       "      <th></th>\n",
       "      <th>Timepoint</th>\n",
       "      <th>Tumor Volume (mm3)</th>\n",
       "    </tr>\n",
       "    <tr>\n",
       "      <th>Drug Regimen</th>\n",
       "      <th>Mouse ID</th>\n",
       "      <th></th>\n",
       "      <th></th>\n",
       "    </tr>\n",
       "  </thead>\n",
       "  <tbody>\n",
       "    <tr>\n",
       "      <th rowspan=\"5\" valign=\"top\">Capomulin</th>\n",
       "      <th>b128</th>\n",
       "      <td>45</td>\n",
       "      <td>45.651331</td>\n",
       "    </tr>\n",
       "    <tr>\n",
       "      <th>b742</th>\n",
       "      <td>45</td>\n",
       "      <td>45.000000</td>\n",
       "    </tr>\n",
       "    <tr>\n",
       "      <th>f966</th>\n",
       "      <td>20</td>\n",
       "      <td>45.000000</td>\n",
       "    </tr>\n",
       "    <tr>\n",
       "      <th>g288</th>\n",
       "      <td>45</td>\n",
       "      <td>46.304003</td>\n",
       "    </tr>\n",
       "    <tr>\n",
       "      <th>g316</th>\n",
       "      <td>45</td>\n",
       "      <td>46.809225</td>\n",
       "    </tr>\n",
       "    <tr>\n",
       "      <th>...</th>\n",
       "      <th>...</th>\n",
       "      <td>...</td>\n",
       "      <td>...</td>\n",
       "    </tr>\n",
       "    <tr>\n",
       "      <th rowspan=\"5\" valign=\"top\">Ramicane</th>\n",
       "      <th>s508</th>\n",
       "      <td>45</td>\n",
       "      <td>45.000000</td>\n",
       "    </tr>\n",
       "    <tr>\n",
       "      <th>u196</th>\n",
       "      <td>45</td>\n",
       "      <td>47.622816</td>\n",
       "    </tr>\n",
       "    <tr>\n",
       "      <th>w678</th>\n",
       "      <td>5</td>\n",
       "      <td>45.000000</td>\n",
       "    </tr>\n",
       "    <tr>\n",
       "      <th>y449</th>\n",
       "      <td>15</td>\n",
       "      <td>46.378092</td>\n",
       "    </tr>\n",
       "    <tr>\n",
       "      <th>z578</th>\n",
       "      <td>45</td>\n",
       "      <td>45.000000</td>\n",
       "    </tr>\n",
       "  </tbody>\n",
       "</table>\n",
       "<p>100 rows × 2 columns</p>\n",
       "</div>"
      ],
      "text/plain": [
       "                       Timepoint  Tumor Volume (mm3)\n",
       "Drug Regimen Mouse ID                               \n",
       "Capomulin    b128             45           45.651331\n",
       "             b742             45           45.000000\n",
       "             f966             20           45.000000\n",
       "             g288             45           46.304003\n",
       "             g316             45           46.809225\n",
       "...                          ...                 ...\n",
       "Ramicane     s508             45           45.000000\n",
       "             u196             45           47.622816\n",
       "             w678              5           45.000000\n",
       "             y449             15           46.378092\n",
       "             z578             45           45.000000\n",
       "\n",
       "[100 rows x 2 columns]"
      ]
     },
     "execution_count": 219,
     "metadata": {},
     "output_type": "execute_result"
    }
   ],
   "source": [
    "# Calculate the final tumor volume of each mouse across four of the treatment regimens:  \n",
    "# Capomulin, Ramicane, Infubinol, and Ceftamin\n",
    "# Start by getting the last (greatest) timepoint for each mouse\n",
    "mouse_Data_filtered = mouse_data_complete.loc[mouse_data_complete['Drug Regimen'].isin(['Ramicane','Capomulin','Infubinol','Ceftamin'])]\n",
    "grouped_data = mouse_Data_filtered.groupby(['Drug Regimen','Mouse ID'])\n",
    "\n",
    "\n",
    "grouped_data['Timepoint','Tumor Volume (mm3)'].max()\n",
    "\n"
   ]
  },
  {
   "cell_type": "code",
   "execution_count": 214,
   "metadata": {},
   "outputs": [
    {
     "data": {
      "text/html": [
       "<div>\n",
       "<style scoped>\n",
       "    .dataframe tbody tr th:only-of-type {\n",
       "        vertical-align: middle;\n",
       "    }\n",
       "\n",
       "    .dataframe tbody tr th {\n",
       "        vertical-align: top;\n",
       "    }\n",
       "\n",
       "    .dataframe thead th {\n",
       "        text-align: right;\n",
       "    }\n",
       "</style>\n",
       "<table border=\"1\" class=\"dataframe\">\n",
       "  <thead>\n",
       "    <tr style=\"text-align: right;\">\n",
       "      <th></th>\n",
       "      <th>Mouse ID</th>\n",
       "      <th>Drug Regimen</th>\n",
       "      <th>Sex</th>\n",
       "      <th>Age_months</th>\n",
       "      <th>Weight (g)</th>\n",
       "      <th>Timepoint</th>\n",
       "      <th>Tumor Volume (mm3)</th>\n",
       "      <th>Metastatic Sites</th>\n",
       "      <th>upper_bound</th>\n",
       "      <th>lower_bound</th>\n",
       "    </tr>\n",
       "  </thead>\n",
       "  <tbody>\n",
       "    <tr>\n",
       "      <th>9</th>\n",
       "      <td>k403</td>\n",
       "      <td>Ramicane</td>\n",
       "      <td>Male</td>\n",
       "      <td>21</td>\n",
       "      <td>16</td>\n",
       "      <td>45</td>\n",
       "      <td>22.050126</td>\n",
       "      <td>1</td>\n",
       "      <td>57.488048</td>\n",
       "      <td>24.186586</td>\n",
       "    </tr>\n",
       "    <tr>\n",
       "      <th>236</th>\n",
       "      <td>s185</td>\n",
       "      <td>Capomulin</td>\n",
       "      <td>Female</td>\n",
       "      <td>3</td>\n",
       "      <td>17</td>\n",
       "      <td>40</td>\n",
       "      <td>25.472143</td>\n",
       "      <td>1</td>\n",
       "      <td>55.971101</td>\n",
       "      <td>26.714832</td>\n",
       "    </tr>\n",
       "    <tr>\n",
       "      <th>237</th>\n",
       "      <td>s185</td>\n",
       "      <td>Capomulin</td>\n",
       "      <td>Female</td>\n",
       "      <td>3</td>\n",
       "      <td>17</td>\n",
       "      <td>45</td>\n",
       "      <td>23.343598</td>\n",
       "      <td>1</td>\n",
       "      <td>55.971101</td>\n",
       "      <td>26.714832</td>\n",
       "    </tr>\n",
       "    <tr>\n",
       "      <th>1105</th>\n",
       "      <td>m269</td>\n",
       "      <td>Stelasyn</td>\n",
       "      <td>Female</td>\n",
       "      <td>22</td>\n",
       "      <td>28</td>\n",
       "      <td>45</td>\n",
       "      <td>75.123690</td>\n",
       "      <td>1</td>\n",
       "      <td>74.727535</td>\n",
       "      <td>32.038901</td>\n",
       "    </tr>\n",
       "    <tr>\n",
       "      <th>1627</th>\n",
       "      <td>o562</td>\n",
       "      <td>Propriva</td>\n",
       "      <td>Female</td>\n",
       "      <td>4</td>\n",
       "      <td>25</td>\n",
       "      <td>40</td>\n",
       "      <td>71.172463</td>\n",
       "      <td>1</td>\n",
       "      <td>70.659861</td>\n",
       "      <td>32.877792</td>\n",
       "    </tr>\n",
       "    <tr>\n",
       "      <th>1628</th>\n",
       "      <td>o562</td>\n",
       "      <td>Propriva</td>\n",
       "      <td>Female</td>\n",
       "      <td>4</td>\n",
       "      <td>25</td>\n",
       "      <td>45</td>\n",
       "      <td>72.455421</td>\n",
       "      <td>2</td>\n",
       "      <td>70.659861</td>\n",
       "      <td>32.877792</td>\n",
       "    </tr>\n",
       "  </tbody>\n",
       "</table>\n",
       "</div>"
      ],
      "text/plain": [
       "     Mouse ID Drug Regimen     Sex  Age_months  Weight (g)  Timepoint  \\\n",
       "9        k403     Ramicane    Male          21          16         45   \n",
       "236      s185    Capomulin  Female           3          17         40   \n",
       "237      s185    Capomulin  Female           3          17         45   \n",
       "1105     m269     Stelasyn  Female          22          28         45   \n",
       "1627     o562     Propriva  Female           4          25         40   \n",
       "1628     o562     Propriva  Female           4          25         45   \n",
       "\n",
       "      Tumor Volume (mm3)  Metastatic Sites  upper_bound  lower_bound  \n",
       "9              22.050126                 1    57.488048    24.186586  \n",
       "236            25.472143                 1    55.971101    26.714832  \n",
       "237            23.343598                 1    55.971101    26.714832  \n",
       "1105           75.123690                 1    74.727535    32.038901  \n",
       "1627           71.172463                 1    70.659861    32.877792  \n",
       "1628           72.455421                 2    70.659861    32.877792  "
      ]
     },
     "execution_count": 214,
     "metadata": {},
     "output_type": "execute_result"
    }
   ],
   "source": [
    "# Put treatments into a list for for loop (and later for plot labels)\n",
    "treatments = mouse_data_complete['Drug Regimen'].unique()\n",
    "\n",
    "# Create empty list to fill with tumor vol data (for plotting)\n",
    "tumor_vol_data = []\n",
    "\n",
    "# Calculate the IQR and quantitatively determine if there are any potential outliers. \n",
    "q1 = mouse_data_complete.groupby('Drug Regimen')['Tumor Volume (mm3)'].quantile(.25)\n",
    "q3 = mouse_data_complete.groupby('Drug Regimen')['Tumor Volume (mm3)'].quantile(.75)  \n",
    "iqr = (q3-q1)\n",
    "upper_bound = q3 + 1.5*iqr\n",
    "lower_bound = q1 - 1.5*iqr\n",
    "\n",
    " # Determine outliers using upper and lower bounds\n",
    "    \n",
    "tumor_outliers = {'Drug Regimen': (q3-q1).index.values, 'upper_bound': upper_bound.values, 'lower_bound': lower_bound.values}\n",
    "outliers = pd.DataFrame(tumor_outliers)\n",
    "\n",
    "mouse_data_complete_copy = mouse_data_complete.copy()\n",
    "mouse_data_complete_copy = mouse_data_complete.merge(outliers, on = 'Drug Regimen', how = 'outer')\n",
    "\n",
    "\n",
    "\n",
    "lower_outliers = mouse_data_complete_copy.loc[(mouse_data_complete_copy['Tumor Volume (mm3)'] < mouse_data_complete_copy['lower_bound'])]\n",
    "upper_outliers = mouse_data_complete_copy.loc[(mouse_data_complete_copy['Tumor Volume (mm3)'] > mouse_data_complete_copy['upper_bound'])]\n",
    "\n",
    "outliers_final = pd.concat([lower_outliers, upper_outliers])\n",
    "outliers_final\n",
    "    "
   ]
  },
  {
   "cell_type": "code",
   "execution_count": 170,
   "metadata": {},
   "outputs": [
    {
     "data": {
      "application/javascript": "/* Put everything inside the global mpl namespace */\n/* global mpl */\nwindow.mpl = {};\n\nmpl.get_websocket_type = function () {\n    if (typeof WebSocket !== 'undefined') {\n        return WebSocket;\n    } else if (typeof MozWebSocket !== 'undefined') {\n        return MozWebSocket;\n    } else {\n        alert(\n            'Your browser does not have WebSocket support. ' +\n                'Please try Chrome, Safari or Firefox ≥ 6. ' +\n                'Firefox 4 and 5 are also supported but you ' +\n                'have to enable WebSockets in about:config.'\n        );\n    }\n};\n\nmpl.figure = function (figure_id, websocket, ondownload, parent_element) {\n    this.id = figure_id;\n\n    this.ws = websocket;\n\n    this.supports_binary = this.ws.binaryType !== undefined;\n\n    if (!this.supports_binary) {\n        var warnings = document.getElementById('mpl-warnings');\n        if (warnings) {\n            warnings.style.display = 'block';\n            warnings.textContent =\n                'This browser does not support binary websocket messages. ' +\n                'Performance may be slow.';\n        }\n    }\n\n    this.imageObj = new Image();\n\n    this.context = undefined;\n    this.message = undefined;\n    this.canvas = undefined;\n    this.rubberband_canvas = undefined;\n    this.rubberband_context = undefined;\n    this.format_dropdown = undefined;\n\n    this.image_mode = 'full';\n\n    this.root = document.createElement('div');\n    this.root.setAttribute('style', 'display: inline-block');\n    this._root_extra_style(this.root);\n\n    parent_element.appendChild(this.root);\n\n    this._init_header(this);\n    this._init_canvas(this);\n    this._init_toolbar(this);\n\n    var fig = this;\n\n    this.waiting = false;\n\n    this.ws.onopen = function () {\n        fig.send_message('supports_binary', { value: fig.supports_binary });\n        fig.send_message('send_image_mode', {});\n        if (fig.ratio !== 1) {\n            fig.send_message('set_device_pixel_ratio', {\n                device_pixel_ratio: fig.ratio,\n            });\n        }\n        fig.send_message('refresh', {});\n    };\n\n    this.imageObj.onload = function () {\n        if (fig.image_mode === 'full') {\n            // Full images could contain transparency (where diff images\n            // almost always do), so we need to clear the canvas so that\n            // there is no ghosting.\n            fig.context.clearRect(0, 0, fig.canvas.width, fig.canvas.height);\n        }\n        fig.context.drawImage(fig.imageObj, 0, 0);\n    };\n\n    this.imageObj.onunload = function () {\n        fig.ws.close();\n    };\n\n    this.ws.onmessage = this._make_on_message_function(this);\n\n    this.ondownload = ondownload;\n};\n\nmpl.figure.prototype._init_header = function () {\n    var titlebar = document.createElement('div');\n    titlebar.classList =\n        'ui-dialog-titlebar ui-widget-header ui-corner-all ui-helper-clearfix';\n    var titletext = document.createElement('div');\n    titletext.classList = 'ui-dialog-title';\n    titletext.setAttribute(\n        'style',\n        'width: 100%; text-align: center; padding: 3px;'\n    );\n    titlebar.appendChild(titletext);\n    this.root.appendChild(titlebar);\n    this.header = titletext;\n};\n\nmpl.figure.prototype._canvas_extra_style = function (_canvas_div) {};\n\nmpl.figure.prototype._root_extra_style = function (_canvas_div) {};\n\nmpl.figure.prototype._init_canvas = function () {\n    var fig = this;\n\n    var canvas_div = (this.canvas_div = document.createElement('div'));\n    canvas_div.setAttribute(\n        'style',\n        'border: 1px solid #ddd;' +\n            'box-sizing: content-box;' +\n            'clear: both;' +\n            'min-height: 1px;' +\n            'min-width: 1px;' +\n            'outline: 0;' +\n            'overflow: hidden;' +\n            'position: relative;' +\n            'resize: both;'\n    );\n\n    function on_keyboard_event_closure(name) {\n        return function (event) {\n            return fig.key_event(event, name);\n        };\n    }\n\n    canvas_div.addEventListener(\n        'keydown',\n        on_keyboard_event_closure('key_press')\n    );\n    canvas_div.addEventListener(\n        'keyup',\n        on_keyboard_event_closure('key_release')\n    );\n\n    this._canvas_extra_style(canvas_div);\n    this.root.appendChild(canvas_div);\n\n    var canvas = (this.canvas = document.createElement('canvas'));\n    canvas.classList.add('mpl-canvas');\n    canvas.setAttribute('style', 'box-sizing: content-box;');\n\n    this.context = canvas.getContext('2d');\n\n    var backingStore =\n        this.context.backingStorePixelRatio ||\n        this.context.webkitBackingStorePixelRatio ||\n        this.context.mozBackingStorePixelRatio ||\n        this.context.msBackingStorePixelRatio ||\n        this.context.oBackingStorePixelRatio ||\n        this.context.backingStorePixelRatio ||\n        1;\n\n    this.ratio = (window.devicePixelRatio || 1) / backingStore;\n\n    var rubberband_canvas = (this.rubberband_canvas = document.createElement(\n        'canvas'\n    ));\n    rubberband_canvas.setAttribute(\n        'style',\n        'box-sizing: content-box; position: absolute; left: 0; top: 0; z-index: 1;'\n    );\n\n    // Apply a ponyfill if ResizeObserver is not implemented by browser.\n    if (this.ResizeObserver === undefined) {\n        if (window.ResizeObserver !== undefined) {\n            this.ResizeObserver = window.ResizeObserver;\n        } else {\n            var obs = _JSXTOOLS_RESIZE_OBSERVER({});\n            this.ResizeObserver = obs.ResizeObserver;\n        }\n    }\n\n    this.resizeObserverInstance = new this.ResizeObserver(function (entries) {\n        var nentries = entries.length;\n        for (var i = 0; i < nentries; i++) {\n            var entry = entries[i];\n            var width, height;\n            if (entry.contentBoxSize) {\n                if (entry.contentBoxSize instanceof Array) {\n                    // Chrome 84 implements new version of spec.\n                    width = entry.contentBoxSize[0].inlineSize;\n                    height = entry.contentBoxSize[0].blockSize;\n                } else {\n                    // Firefox implements old version of spec.\n                    width = entry.contentBoxSize.inlineSize;\n                    height = entry.contentBoxSize.blockSize;\n                }\n            } else {\n                // Chrome <84 implements even older version of spec.\n                width = entry.contentRect.width;\n                height = entry.contentRect.height;\n            }\n\n            // Keep the size of the canvas and rubber band canvas in sync with\n            // the canvas container.\n            if (entry.devicePixelContentBoxSize) {\n                // Chrome 84 implements new version of spec.\n                canvas.setAttribute(\n                    'width',\n                    entry.devicePixelContentBoxSize[0].inlineSize\n                );\n                canvas.setAttribute(\n                    'height',\n                    entry.devicePixelContentBoxSize[0].blockSize\n                );\n            } else {\n                canvas.setAttribute('width', width * fig.ratio);\n                canvas.setAttribute('height', height * fig.ratio);\n            }\n            canvas.setAttribute(\n                'style',\n                'width: ' + width + 'px; height: ' + height + 'px;'\n            );\n\n            rubberband_canvas.setAttribute('width', width);\n            rubberband_canvas.setAttribute('height', height);\n\n            // And update the size in Python. We ignore the initial 0/0 size\n            // that occurs as the element is placed into the DOM, which should\n            // otherwise not happen due to the minimum size styling.\n            if (fig.ws.readyState == 1 && width != 0 && height != 0) {\n                fig.request_resize(width, height);\n            }\n        }\n    });\n    this.resizeObserverInstance.observe(canvas_div);\n\n    function on_mouse_event_closure(name) {\n        return function (event) {\n            return fig.mouse_event(event, name);\n        };\n    }\n\n    rubberband_canvas.addEventListener(\n        'mousedown',\n        on_mouse_event_closure('button_press')\n    );\n    rubberband_canvas.addEventListener(\n        'mouseup',\n        on_mouse_event_closure('button_release')\n    );\n    rubberband_canvas.addEventListener(\n        'dblclick',\n        on_mouse_event_closure('dblclick')\n    );\n    // Throttle sequential mouse events to 1 every 20ms.\n    rubberband_canvas.addEventListener(\n        'mousemove',\n        on_mouse_event_closure('motion_notify')\n    );\n\n    rubberband_canvas.addEventListener(\n        'mouseenter',\n        on_mouse_event_closure('figure_enter')\n    );\n    rubberband_canvas.addEventListener(\n        'mouseleave',\n        on_mouse_event_closure('figure_leave')\n    );\n\n    canvas_div.addEventListener('wheel', function (event) {\n        if (event.deltaY < 0) {\n            event.step = 1;\n        } else {\n            event.step = -1;\n        }\n        on_mouse_event_closure('scroll')(event);\n    });\n\n    canvas_div.appendChild(canvas);\n    canvas_div.appendChild(rubberband_canvas);\n\n    this.rubberband_context = rubberband_canvas.getContext('2d');\n    this.rubberband_context.strokeStyle = '#000000';\n\n    this._resize_canvas = function (width, height, forward) {\n        if (forward) {\n            canvas_div.style.width = width + 'px';\n            canvas_div.style.height = height + 'px';\n        }\n    };\n\n    // Disable right mouse context menu.\n    this.rubberband_canvas.addEventListener('contextmenu', function (_e) {\n        event.preventDefault();\n        return false;\n    });\n\n    function set_focus() {\n        canvas.focus();\n        canvas_div.focus();\n    }\n\n    window.setTimeout(set_focus, 100);\n};\n\nmpl.figure.prototype._init_toolbar = function () {\n    var fig = this;\n\n    var toolbar = document.createElement('div');\n    toolbar.classList = 'mpl-toolbar';\n    this.root.appendChild(toolbar);\n\n    function on_click_closure(name) {\n        return function (_event) {\n            return fig.toolbar_button_onclick(name);\n        };\n    }\n\n    function on_mouseover_closure(tooltip) {\n        return function (event) {\n            if (!event.currentTarget.disabled) {\n                return fig.toolbar_button_onmouseover(tooltip);\n            }\n        };\n    }\n\n    fig.buttons = {};\n    var buttonGroup = document.createElement('div');\n    buttonGroup.classList = 'mpl-button-group';\n    for (var toolbar_ind in mpl.toolbar_items) {\n        var name = mpl.toolbar_items[toolbar_ind][0];\n        var tooltip = mpl.toolbar_items[toolbar_ind][1];\n        var image = mpl.toolbar_items[toolbar_ind][2];\n        var method_name = mpl.toolbar_items[toolbar_ind][3];\n\n        if (!name) {\n            /* Instead of a spacer, we start a new button group. */\n            if (buttonGroup.hasChildNodes()) {\n                toolbar.appendChild(buttonGroup);\n            }\n            buttonGroup = document.createElement('div');\n            buttonGroup.classList = 'mpl-button-group';\n            continue;\n        }\n\n        var button = (fig.buttons[name] = document.createElement('button'));\n        button.classList = 'mpl-widget';\n        button.setAttribute('role', 'button');\n        button.setAttribute('aria-disabled', 'false');\n        button.addEventListener('click', on_click_closure(method_name));\n        button.addEventListener('mouseover', on_mouseover_closure(tooltip));\n\n        var icon_img = document.createElement('img');\n        icon_img.src = '_images/' + image + '.png';\n        icon_img.srcset = '_images/' + image + '_large.png 2x';\n        icon_img.alt = tooltip;\n        button.appendChild(icon_img);\n\n        buttonGroup.appendChild(button);\n    }\n\n    if (buttonGroup.hasChildNodes()) {\n        toolbar.appendChild(buttonGroup);\n    }\n\n    var fmt_picker = document.createElement('select');\n    fmt_picker.classList = 'mpl-widget';\n    toolbar.appendChild(fmt_picker);\n    this.format_dropdown = fmt_picker;\n\n    for (var ind in mpl.extensions) {\n        var fmt = mpl.extensions[ind];\n        var option = document.createElement('option');\n        option.selected = fmt === mpl.default_extension;\n        option.innerHTML = fmt;\n        fmt_picker.appendChild(option);\n    }\n\n    var status_bar = document.createElement('span');\n    status_bar.classList = 'mpl-message';\n    toolbar.appendChild(status_bar);\n    this.message = status_bar;\n};\n\nmpl.figure.prototype.request_resize = function (x_pixels, y_pixels) {\n    // Request matplotlib to resize the figure. Matplotlib will then trigger a resize in the client,\n    // which will in turn request a refresh of the image.\n    this.send_message('resize', { width: x_pixels, height: y_pixels });\n};\n\nmpl.figure.prototype.send_message = function (type, properties) {\n    properties['type'] = type;\n    properties['figure_id'] = this.id;\n    this.ws.send(JSON.stringify(properties));\n};\n\nmpl.figure.prototype.send_draw_message = function () {\n    if (!this.waiting) {\n        this.waiting = true;\n        this.ws.send(JSON.stringify({ type: 'draw', figure_id: this.id }));\n    }\n};\n\nmpl.figure.prototype.handle_save = function (fig, _msg) {\n    var format_dropdown = fig.format_dropdown;\n    var format = format_dropdown.options[format_dropdown.selectedIndex].value;\n    fig.ondownload(fig, format);\n};\n\nmpl.figure.prototype.handle_resize = function (fig, msg) {\n    var size = msg['size'];\n    if (size[0] !== fig.canvas.width || size[1] !== fig.canvas.height) {\n        fig._resize_canvas(size[0], size[1], msg['forward']);\n        fig.send_message('refresh', {});\n    }\n};\n\nmpl.figure.prototype.handle_rubberband = function (fig, msg) {\n    var x0 = msg['x0'] / fig.ratio;\n    var y0 = (fig.canvas.height - msg['y0']) / fig.ratio;\n    var x1 = msg['x1'] / fig.ratio;\n    var y1 = (fig.canvas.height - msg['y1']) / fig.ratio;\n    x0 = Math.floor(x0) + 0.5;\n    y0 = Math.floor(y0) + 0.5;\n    x1 = Math.floor(x1) + 0.5;\n    y1 = Math.floor(y1) + 0.5;\n    var min_x = Math.min(x0, x1);\n    var min_y = Math.min(y0, y1);\n    var width = Math.abs(x1 - x0);\n    var height = Math.abs(y1 - y0);\n\n    fig.rubberband_context.clearRect(\n        0,\n        0,\n        fig.canvas.width / fig.ratio,\n        fig.canvas.height / fig.ratio\n    );\n\n    fig.rubberband_context.strokeRect(min_x, min_y, width, height);\n};\n\nmpl.figure.prototype.handle_figure_label = function (fig, msg) {\n    // Updates the figure title.\n    fig.header.textContent = msg['label'];\n};\n\nmpl.figure.prototype.handle_cursor = function (fig, msg) {\n    fig.rubberband_canvas.style.cursor = msg['cursor'];\n};\n\nmpl.figure.prototype.handle_message = function (fig, msg) {\n    fig.message.textContent = msg['message'];\n};\n\nmpl.figure.prototype.handle_draw = function (fig, _msg) {\n    // Request the server to send over a new figure.\n    fig.send_draw_message();\n};\n\nmpl.figure.prototype.handle_image_mode = function (fig, msg) {\n    fig.image_mode = msg['mode'];\n};\n\nmpl.figure.prototype.handle_history_buttons = function (fig, msg) {\n    for (var key in msg) {\n        if (!(key in fig.buttons)) {\n            continue;\n        }\n        fig.buttons[key].disabled = !msg[key];\n        fig.buttons[key].setAttribute('aria-disabled', !msg[key]);\n    }\n};\n\nmpl.figure.prototype.handle_navigate_mode = function (fig, msg) {\n    if (msg['mode'] === 'PAN') {\n        fig.buttons['Pan'].classList.add('active');\n        fig.buttons['Zoom'].classList.remove('active');\n    } else if (msg['mode'] === 'ZOOM') {\n        fig.buttons['Pan'].classList.remove('active');\n        fig.buttons['Zoom'].classList.add('active');\n    } else {\n        fig.buttons['Pan'].classList.remove('active');\n        fig.buttons['Zoom'].classList.remove('active');\n    }\n};\n\nmpl.figure.prototype.updated_canvas_event = function () {\n    // Called whenever the canvas gets updated.\n    this.send_message('ack', {});\n};\n\n// A function to construct a web socket function for onmessage handling.\n// Called in the figure constructor.\nmpl.figure.prototype._make_on_message_function = function (fig) {\n    return function socket_on_message(evt) {\n        if (evt.data instanceof Blob) {\n            var img = evt.data;\n            if (img.type !== 'image/png') {\n                /* FIXME: We get \"Resource interpreted as Image but\n                 * transferred with MIME type text/plain:\" errors on\n                 * Chrome.  But how to set the MIME type?  It doesn't seem\n                 * to be part of the websocket stream */\n                img.type = 'image/png';\n            }\n\n            /* Free the memory for the previous frames */\n            if (fig.imageObj.src) {\n                (window.URL || window.webkitURL).revokeObjectURL(\n                    fig.imageObj.src\n                );\n            }\n\n            fig.imageObj.src = (window.URL || window.webkitURL).createObjectURL(\n                img\n            );\n            fig.updated_canvas_event();\n            fig.waiting = false;\n            return;\n        } else if (\n            typeof evt.data === 'string' &&\n            evt.data.slice(0, 21) === 'data:image/png;base64'\n        ) {\n            fig.imageObj.src = evt.data;\n            fig.updated_canvas_event();\n            fig.waiting = false;\n            return;\n        }\n\n        var msg = JSON.parse(evt.data);\n        var msg_type = msg['type'];\n\n        // Call the  \"handle_{type}\" callback, which takes\n        // the figure and JSON message as its only arguments.\n        try {\n            var callback = fig['handle_' + msg_type];\n        } catch (e) {\n            console.log(\n                \"No handler for the '\" + msg_type + \"' message type: \",\n                msg\n            );\n            return;\n        }\n\n        if (callback) {\n            try {\n                // console.log(\"Handling '\" + msg_type + \"' message: \", msg);\n                callback(fig, msg);\n            } catch (e) {\n                console.log(\n                    \"Exception inside the 'handler_\" + msg_type + \"' callback:\",\n                    e,\n                    e.stack,\n                    msg\n                );\n            }\n        }\n    };\n};\n\n// from https://stackoverflow.com/questions/1114465/getting-mouse-location-in-canvas\nmpl.findpos = function (e) {\n    //this section is from http://www.quirksmode.org/js/events_properties.html\n    var targ;\n    if (!e) {\n        e = window.event;\n    }\n    if (e.target) {\n        targ = e.target;\n    } else if (e.srcElement) {\n        targ = e.srcElement;\n    }\n    if (targ.nodeType === 3) {\n        // defeat Safari bug\n        targ = targ.parentNode;\n    }\n\n    // pageX,Y are the mouse positions relative to the document\n    var boundingRect = targ.getBoundingClientRect();\n    var x = e.pageX - (boundingRect.left + document.body.scrollLeft);\n    var y = e.pageY - (boundingRect.top + document.body.scrollTop);\n\n    return { x: x, y: y };\n};\n\n/*\n * return a copy of an object with only non-object keys\n * we need this to avoid circular references\n * https://stackoverflow.com/a/24161582/3208463\n */\nfunction simpleKeys(original) {\n    return Object.keys(original).reduce(function (obj, key) {\n        if (typeof original[key] !== 'object') {\n            obj[key] = original[key];\n        }\n        return obj;\n    }, {});\n}\n\nmpl.figure.prototype.mouse_event = function (event, name) {\n    var canvas_pos = mpl.findpos(event);\n\n    if (name === 'button_press') {\n        this.canvas.focus();\n        this.canvas_div.focus();\n    }\n\n    var x = canvas_pos.x * this.ratio;\n    var y = canvas_pos.y * this.ratio;\n\n    this.send_message(name, {\n        x: x,\n        y: y,\n        button: event.button,\n        step: event.step,\n        guiEvent: simpleKeys(event),\n    });\n\n    /* This prevents the web browser from automatically changing to\n     * the text insertion cursor when the button is pressed.  We want\n     * to control all of the cursor setting manually through the\n     * 'cursor' event from matplotlib */\n    event.preventDefault();\n    return false;\n};\n\nmpl.figure.prototype._key_event_extra = function (_event, _name) {\n    // Handle any extra behaviour associated with a key event\n};\n\nmpl.figure.prototype.key_event = function (event, name) {\n    // Prevent repeat events\n    if (name === 'key_press') {\n        if (event.key === this._key) {\n            return;\n        } else {\n            this._key = event.key;\n        }\n    }\n    if (name === 'key_release') {\n        this._key = null;\n    }\n\n    var value = '';\n    if (event.ctrlKey && event.key !== 'Control') {\n        value += 'ctrl+';\n    }\n    else if (event.altKey && event.key !== 'Alt') {\n        value += 'alt+';\n    }\n    else if (event.shiftKey && event.key !== 'Shift') {\n        value += 'shift+';\n    }\n\n    value += 'k' + event.key;\n\n    this._key_event_extra(event, name);\n\n    this.send_message(name, { key: value, guiEvent: simpleKeys(event) });\n    return false;\n};\n\nmpl.figure.prototype.toolbar_button_onclick = function (name) {\n    if (name === 'download') {\n        this.handle_save(this, null);\n    } else {\n        this.send_message('toolbar_button', { name: name });\n    }\n};\n\nmpl.figure.prototype.toolbar_button_onmouseover = function (tooltip) {\n    this.message.textContent = tooltip;\n};\n\n///////////////// REMAINING CONTENT GENERATED BY embed_js.py /////////////////\n// prettier-ignore\nvar _JSXTOOLS_RESIZE_OBSERVER=function(A){var t,i=new WeakMap,n=new WeakMap,a=new WeakMap,r=new WeakMap,o=new Set;function s(e){if(!(this instanceof s))throw new TypeError(\"Constructor requires 'new' operator\");i.set(this,e)}function h(){throw new TypeError(\"Function is not a constructor\")}function c(e,t,i,n){e=0 in arguments?Number(arguments[0]):0,t=1 in arguments?Number(arguments[1]):0,i=2 in arguments?Number(arguments[2]):0,n=3 in arguments?Number(arguments[3]):0,this.right=(this.x=this.left=e)+(this.width=i),this.bottom=(this.y=this.top=t)+(this.height=n),Object.freeze(this)}function d(){t=requestAnimationFrame(d);var s=new WeakMap,p=new Set;o.forEach((function(t){r.get(t).forEach((function(i){var r=t instanceof window.SVGElement,o=a.get(t),d=r?0:parseFloat(o.paddingTop),f=r?0:parseFloat(o.paddingRight),l=r?0:parseFloat(o.paddingBottom),u=r?0:parseFloat(o.paddingLeft),g=r?0:parseFloat(o.borderTopWidth),m=r?0:parseFloat(o.borderRightWidth),w=r?0:parseFloat(o.borderBottomWidth),b=u+f,F=d+l,v=(r?0:parseFloat(o.borderLeftWidth))+m,W=g+w,y=r?0:t.offsetHeight-W-t.clientHeight,E=r?0:t.offsetWidth-v-t.clientWidth,R=b+v,z=F+W,M=r?t.width:parseFloat(o.width)-R-E,O=r?t.height:parseFloat(o.height)-z-y;if(n.has(t)){var k=n.get(t);if(k[0]===M&&k[1]===O)return}n.set(t,[M,O]);var S=Object.create(h.prototype);S.target=t,S.contentRect=new c(u,d,M,O),s.has(i)||(s.set(i,[]),p.add(i)),s.get(i).push(S)}))})),p.forEach((function(e){i.get(e).call(e,s.get(e),e)}))}return s.prototype.observe=function(i){if(i instanceof window.Element){r.has(i)||(r.set(i,new Set),o.add(i),a.set(i,window.getComputedStyle(i)));var n=r.get(i);n.has(this)||n.add(this),cancelAnimationFrame(t),t=requestAnimationFrame(d)}},s.prototype.unobserve=function(i){if(i instanceof window.Element&&r.has(i)){var n=r.get(i);n.has(this)&&(n.delete(this),n.size||(r.delete(i),o.delete(i))),n.size||r.delete(i),o.size||cancelAnimationFrame(t)}},A.DOMRectReadOnly=c,A.ResizeObserver=s,A.ResizeObserverEntry=h,A}; // eslint-disable-line\nmpl.toolbar_items = [[\"Home\", \"Reset original view\", \"fa fa-home icon-home\", \"home\"], [\"Back\", \"Back to previous view\", \"fa fa-arrow-left icon-arrow-left\", \"back\"], [\"Forward\", \"Forward to next view\", \"fa fa-arrow-right icon-arrow-right\", \"forward\"], [\"\", \"\", \"\", \"\"], [\"Pan\", \"Left button pans, Right button zooms\\nx/y fixes axis, CTRL fixes aspect\", \"fa fa-arrows icon-move\", \"pan\"], [\"Zoom\", \"Zoom to rectangle\\nx/y fixes axis\", \"fa fa-square-o icon-check-empty\", \"zoom\"], [\"\", \"\", \"\", \"\"], [\"Download\", \"Download plot\", \"fa fa-floppy-o icon-save\", \"download\"]];\n\nmpl.extensions = [\"eps\", \"jpeg\", \"pgf\", \"pdf\", \"png\", \"ps\", \"raw\", \"svg\", \"tif\"];\n\nmpl.default_extension = \"png\";/* global mpl */\n\nvar comm_websocket_adapter = function (comm) {\n    // Create a \"websocket\"-like object which calls the given IPython comm\n    // object with the appropriate methods. Currently this is a non binary\n    // socket, so there is still some room for performance tuning.\n    var ws = {};\n\n    ws.binaryType = comm.kernel.ws.binaryType;\n    ws.readyState = comm.kernel.ws.readyState;\n    function updateReadyState(_event) {\n        if (comm.kernel.ws) {\n            ws.readyState = comm.kernel.ws.readyState;\n        } else {\n            ws.readyState = 3; // Closed state.\n        }\n    }\n    comm.kernel.ws.addEventListener('open', updateReadyState);\n    comm.kernel.ws.addEventListener('close', updateReadyState);\n    comm.kernel.ws.addEventListener('error', updateReadyState);\n\n    ws.close = function () {\n        comm.close();\n    };\n    ws.send = function (m) {\n        //console.log('sending', m);\n        comm.send(m);\n    };\n    // Register the callback with on_msg.\n    comm.on_msg(function (msg) {\n        //console.log('receiving', msg['content']['data'], msg);\n        var data = msg['content']['data'];\n        if (data['blob'] !== undefined) {\n            data = {\n                data: new Blob(msg['buffers'], { type: data['blob'] }),\n            };\n        }\n        // Pass the mpl event to the overridden (by mpl) onmessage function.\n        ws.onmessage(data);\n    });\n    return ws;\n};\n\nmpl.mpl_figure_comm = function (comm, msg) {\n    // This is the function which gets called when the mpl process\n    // starts-up an IPython Comm through the \"matplotlib\" channel.\n\n    var id = msg.content.data.id;\n    // Get hold of the div created by the display call when the Comm\n    // socket was opened in Python.\n    var element = document.getElementById(id);\n    var ws_proxy = comm_websocket_adapter(comm);\n\n    function ondownload(figure, _format) {\n        window.open(figure.canvas.toDataURL());\n    }\n\n    var fig = new mpl.figure(id, ws_proxy, ondownload, element);\n\n    // Call onopen now - mpl needs it, as it is assuming we've passed it a real\n    // web socket which is closed, not our websocket->open comm proxy.\n    ws_proxy.onopen();\n\n    fig.parent_element = element;\n    fig.cell_info = mpl.find_output_cell(\"<div id='\" + id + \"'></div>\");\n    if (!fig.cell_info) {\n        console.error('Failed to find cell for figure', id, fig);\n        return;\n    }\n    fig.cell_info[0].output_area.element.on(\n        'cleared',\n        { fig: fig },\n        fig._remove_fig_handler\n    );\n};\n\nmpl.figure.prototype.handle_close = function (fig, msg) {\n    var width = fig.canvas.width / fig.ratio;\n    fig.cell_info[0].output_area.element.off(\n        'cleared',\n        fig._remove_fig_handler\n    );\n    fig.resizeObserverInstance.unobserve(fig.canvas_div);\n\n    // Update the output cell to use the data from the current canvas.\n    fig.push_to_output();\n    var dataURL = fig.canvas.toDataURL();\n    // Re-enable the keyboard manager in IPython - without this line, in FF,\n    // the notebook keyboard shortcuts fail.\n    IPython.keyboard_manager.enable();\n    fig.parent_element.innerHTML =\n        '<img src=\"' + dataURL + '\" width=\"' + width + '\">';\n    fig.close_ws(fig, msg);\n};\n\nmpl.figure.prototype.close_ws = function (fig, msg) {\n    fig.send_message('closing', msg);\n    // fig.ws.close()\n};\n\nmpl.figure.prototype.push_to_output = function (_remove_interactive) {\n    // Turn the data on the canvas into data in the output cell.\n    var width = this.canvas.width / this.ratio;\n    var dataURL = this.canvas.toDataURL();\n    this.cell_info[1]['text/html'] =\n        '<img src=\"' + dataURL + '\" width=\"' + width + '\">';\n};\n\nmpl.figure.prototype.updated_canvas_event = function () {\n    // Tell IPython that the notebook contents must change.\n    IPython.notebook.set_dirty(true);\n    this.send_message('ack', {});\n    var fig = this;\n    // Wait a second, then push the new image to the DOM so\n    // that it is saved nicely (might be nice to debounce this).\n    setTimeout(function () {\n        fig.push_to_output();\n    }, 1000);\n};\n\nmpl.figure.prototype._init_toolbar = function () {\n    var fig = this;\n\n    var toolbar = document.createElement('div');\n    toolbar.classList = 'btn-toolbar';\n    this.root.appendChild(toolbar);\n\n    function on_click_closure(name) {\n        return function (_event) {\n            return fig.toolbar_button_onclick(name);\n        };\n    }\n\n    function on_mouseover_closure(tooltip) {\n        return function (event) {\n            if (!event.currentTarget.disabled) {\n                return fig.toolbar_button_onmouseover(tooltip);\n            }\n        };\n    }\n\n    fig.buttons = {};\n    var buttonGroup = document.createElement('div');\n    buttonGroup.classList = 'btn-group';\n    var button;\n    for (var toolbar_ind in mpl.toolbar_items) {\n        var name = mpl.toolbar_items[toolbar_ind][0];\n        var tooltip = mpl.toolbar_items[toolbar_ind][1];\n        var image = mpl.toolbar_items[toolbar_ind][2];\n        var method_name = mpl.toolbar_items[toolbar_ind][3];\n\n        if (!name) {\n            /* Instead of a spacer, we start a new button group. */\n            if (buttonGroup.hasChildNodes()) {\n                toolbar.appendChild(buttonGroup);\n            }\n            buttonGroup = document.createElement('div');\n            buttonGroup.classList = 'btn-group';\n            continue;\n        }\n\n        button = fig.buttons[name] = document.createElement('button');\n        button.classList = 'btn btn-default';\n        button.href = '#';\n        button.title = name;\n        button.innerHTML = '<i class=\"fa ' + image + ' fa-lg\"></i>';\n        button.addEventListener('click', on_click_closure(method_name));\n        button.addEventListener('mouseover', on_mouseover_closure(tooltip));\n        buttonGroup.appendChild(button);\n    }\n\n    if (buttonGroup.hasChildNodes()) {\n        toolbar.appendChild(buttonGroup);\n    }\n\n    // Add the status bar.\n    var status_bar = document.createElement('span');\n    status_bar.classList = 'mpl-message pull-right';\n    toolbar.appendChild(status_bar);\n    this.message = status_bar;\n\n    // Add the close button to the window.\n    var buttongrp = document.createElement('div');\n    buttongrp.classList = 'btn-group inline pull-right';\n    button = document.createElement('button');\n    button.classList = 'btn btn-mini btn-primary';\n    button.href = '#';\n    button.title = 'Stop Interaction';\n    button.innerHTML = '<i class=\"fa fa-power-off icon-remove icon-large\"></i>';\n    button.addEventListener('click', function (_evt) {\n        fig.handle_close(fig, {});\n    });\n    button.addEventListener(\n        'mouseover',\n        on_mouseover_closure('Stop Interaction')\n    );\n    buttongrp.appendChild(button);\n    var titlebar = this.root.querySelector('.ui-dialog-titlebar');\n    titlebar.insertBefore(buttongrp, titlebar.firstChild);\n};\n\nmpl.figure.prototype._remove_fig_handler = function (event) {\n    var fig = event.data.fig;\n    if (event.target !== this) {\n        // Ignore bubbled events from children.\n        return;\n    }\n    fig.close_ws(fig, {});\n};\n\nmpl.figure.prototype._root_extra_style = function (el) {\n    el.style.boxSizing = 'content-box'; // override notebook setting of border-box.\n};\n\nmpl.figure.prototype._canvas_extra_style = function (el) {\n    // this is important to make the div 'focusable\n    el.setAttribute('tabindex', 0);\n    // reach out to IPython and tell the keyboard manager to turn it's self\n    // off when our div gets focus\n\n    // location in version 3\n    if (IPython.notebook.keyboard_manager) {\n        IPython.notebook.keyboard_manager.register_events(el);\n    } else {\n        // location in version 2\n        IPython.keyboard_manager.register_events(el);\n    }\n};\n\nmpl.figure.prototype._key_event_extra = function (event, _name) {\n    // Check for shift+enter\n    if (event.shiftKey && event.which === 13) {\n        this.canvas_div.blur();\n        // select the cell after this one\n        var index = IPython.notebook.find_cell_index(this.cell_info[0]);\n        IPython.notebook.select(index + 1);\n    }\n};\n\nmpl.figure.prototype.handle_save = function (fig, _msg) {\n    fig.ondownload(fig, null);\n};\n\nmpl.find_output_cell = function (html_output) {\n    // Return the cell and output element which can be found *uniquely* in the notebook.\n    // Note - this is a bit hacky, but it is done because the \"notebook_saving.Notebook\"\n    // IPython event is triggered only after the cells have been serialised, which for\n    // our purposes (turning an active figure into a static one), is too late.\n    var cells = IPython.notebook.get_cells();\n    var ncells = cells.length;\n    for (var i = 0; i < ncells; i++) {\n        var cell = cells[i];\n        if (cell.cell_type === 'code') {\n            for (var j = 0; j < cell.output_area.outputs.length; j++) {\n                var data = cell.output_area.outputs[j];\n                if (data.data) {\n                    // IPython >= 3 moved mimebundle to data attribute of output\n                    data = data.data;\n                }\n                if (data['text/html'] === html_output) {\n                    return [cell, data, j];\n                }\n            }\n        }\n    }\n};\n\n// Register the function which deals with the matplotlib target/channel.\n// The kernel may be null if the page has been refreshed.\nif (IPython.notebook.kernel !== null) {\n    IPython.notebook.kernel.comm_manager.register_target(\n        'matplotlib',\n        mpl.mpl_figure_comm\n    );\n}\n",
      "text/plain": [
       "<IPython.core.display.Javascript object>"
      ]
     },
     "metadata": {},
     "output_type": "display_data"
    },
    {
     "data": {
      "text/html": [
       "<img src=\"data:image/png;base64,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\" width=\"800\">"
      ],
      "text/plain": [
       "<IPython.core.display.HTML object>"
      ]
     },
     "metadata": {},
     "output_type": "display_data"
    }
   ],
   "source": [
    "# Generate a box plot of the final tumor volume of each mouse across four regimens of interest\n",
    "drug_regimen_box = mouse_Data_filtered.boxplot('Tumor Volume (mm3)', by='Drug Regimen', figsize=(8,8))\n"
   ]
  },
  {
   "cell_type": "markdown",
   "metadata": {},
   "source": [
    "## Line and Scatter Plots"
   ]
  },
  {
   "cell_type": "code",
   "execution_count": 215,
   "metadata": {},
   "outputs": [
    {
     "data": {
      "image/png": "[encoded data removed]",
      "text/plain": [
       "<Figure size 432x288 with 1 Axes>"
      ]
     },
     "metadata": {
      "needs_background": "light"
     },
     "output_type": "display_data"
    }
   ],
   "source": [
    "# Generate a line plot of tumor volume vs. time point for a mouse treated with Capomulin\n",
    "volume_vs_timepoint = mouse_data_complete[mouse_data_complete['Drug Regimen'] == 'Capomulin']\n",
    "volume_vs_timepoint = volume_vs_timepoint[['Timepoint', 'Tumor Volume (mm3)']]\n",
    "volume_vs_timepoint.plot(x='Timepoint', y='Tumor Volume (mm3)',)\n",
    "\n",
    "\n",
    "plt.show()"
   ]
  },
  {
   "cell_type": "code",
   "execution_count": 216,
   "metadata": {},
   "outputs": [
    {
     "data": {
      "image/png": "[encoded data removed]",
      "text/plain": [
       "<Figure size 576x576 with 1 Axes>"
      ]
     },
     "metadata": {
      "needs_background": "light"
     },
     "output_type": "display_data"
    }
   ],
   "source": [
    "# Generate a scatter plot of average tumor volume vs. mouse weight for the Capomulin regimen\n",
    "volume_vs_weight = mouse_data_complete[mouse_data_complete['Drug Regimen'] == 'Capomulin']\n",
    "volume_vs_weight.plot(kind=\"scatter\", x='Tumor Volume (mm3)', y='Weight (g)', grid=True, figsize=(8,8),\n",
    "              title='tumor volume vs. mouse weight')\n",
    "plt.show()"
   ]
  },
  {
   "cell_type": "markdown",
   "metadata": {},
   "source": [
    "## Correlation and Regression"
   ]
  },
  {
   "cell_type": "code",
   "execution_count": 178,
   "metadata": {},
   "outputs": [
    {
     "data": {
      "text/html": [
       "<div>\n",
       "<style scoped>\n",
       "    .dataframe tbody tr th:only-of-type {\n",
       "        vertical-align: middle;\n",
       "    }\n",
       "\n",
       "    .dataframe tbody tr th {\n",
       "        vertical-align: top;\n",
       "    }\n",
       "\n",
       "    .dataframe thead th {\n",
       "        text-align: right;\n",
       "    }\n",
       "</style>\n",
       "<table border=\"1\" class=\"dataframe\">\n",
       "  <thead>\n",
       "    <tr style=\"text-align: right;\">\n",
       "      <th></th>\n",
       "      <th>Age_months</th>\n",
       "      <th>Weight (g)</th>\n",
       "      <th>Timepoint</th>\n",
       "      <th>Tumor Volume (mm3)</th>\n",
       "      <th>Metastatic Sites</th>\n",
       "    </tr>\n",
       "  </thead>\n",
       "  <tbody>\n",
       "    <tr>\n",
       "      <th>Age_months</th>\n",
       "      <td>1.000000</td>\n",
       "      <td>-0.169172</td>\n",
       "      <td>-0.057964</td>\n",
       "      <td>-0.021604</td>\n",
       "      <td>0.006748</td>\n",
       "    </tr>\n",
       "    <tr>\n",
       "      <th>Weight (g)</th>\n",
       "      <td>-0.169172</td>\n",
       "      <td>1.000000</td>\n",
       "      <td>-0.035271</td>\n",
       "      <td>0.525700</td>\n",
       "      <td>-0.119149</td>\n",
       "    </tr>\n",
       "    <tr>\n",
       "      <th>Timepoint</th>\n",
       "      <td>-0.057964</td>\n",
       "      <td>-0.035271</td>\n",
       "      <td>1.000000</td>\n",
       "      <td>-0.584271</td>\n",
       "      <td>0.584006</td>\n",
       "    </tr>\n",
       "    <tr>\n",
       "      <th>Tumor Volume (mm3)</th>\n",
       "      <td>-0.021604</td>\n",
       "      <td>0.525700</td>\n",
       "      <td>-0.584271</td>\n",
       "      <td>1.000000</td>\n",
       "      <td>-0.313092</td>\n",
       "    </tr>\n",
       "    <tr>\n",
       "      <th>Metastatic Sites</th>\n",
       "      <td>0.006748</td>\n",
       "      <td>-0.119149</td>\n",
       "      <td>0.584006</td>\n",
       "      <td>-0.313092</td>\n",
       "      <td>1.000000</td>\n",
       "    </tr>\n",
       "  </tbody>\n",
       "</table>\n",
       "</div>"
      ],
      "text/plain": [
       "                    Age_months  Weight (g)  Timepoint  Tumor Volume (mm3)  \\\n",
       "Age_months            1.000000   -0.169172  -0.057964           -0.021604   \n",
       "Weight (g)           -0.169172    1.000000  -0.035271            0.525700   \n",
       "Timepoint            -0.057964   -0.035271   1.000000           -0.584271   \n",
       "Tumor Volume (mm3)   -0.021604    0.525700  -0.584271            1.000000   \n",
       "Metastatic Sites      0.006748   -0.119149   0.584006           -0.313092   \n",
       "\n",
       "                    Metastatic Sites  \n",
       "Age_months                  0.006748  \n",
       "Weight (g)                 -0.119149  \n",
       "Timepoint                   0.584006  \n",
       "Tumor Volume (mm3)         -0.313092  \n",
       "Metastatic Sites            1.000000  "
      ]
     },
     "execution_count": 178,
     "metadata": {},
     "output_type": "execute_result"
    }
   ],
   "source": [
    "volume_vs_weight.corr()"
   ]
  },
  {
   "cell_type": "code",
   "execution_count": 184,
   "metadata": {},
   "outputs": [
    {
     "data": {
      "image/png": "[encoded data removed]",
      "text/plain": [
       "<Figure size 432x288 with 2 Axes>"
      ]
     },
     "metadata": {
      "needs_background": "light"
     },
     "output_type": "display_data"
    }
   ],
   "source": [
    "sns.heatmap(volume_vs_weight.corr(), cmap=\"PiYG\")\n",
    "plt.show()"
   ]
  },
  {
   "cell_type": "code",
   "execution_count": 185,
   "metadata": {},
   "outputs": [
    {
     "data": {
      "text/plain": [
       "<AxesSubplot:xlabel='Tumor Volume (mm3)', ylabel='Weight (g)'>"
      ]
     },
     "execution_count": 185,
     "metadata": {},
     "output_type": "execute_result"
    },
    {
     "data": {
      "image/png": "[encoded data removed]",
      "text/plain": [
       "<Figure size 432x288 with 1 Axes>"
      ]
     },
     "metadata": {
      "needs_background": "light"
     },
     "output_type": "display_data"
    }
   ],
   "source": [
    "volume_vs_weight.plot(x=\"Tumor Volume (mm3)\", y=\"Weight (g)\", kind=\"scatter\")"
   ]
  },
  {
   "cell_type": "code",
   "execution_count": null,
   "metadata": {},
   "outputs": [],
   "source": []
  },
  {
   "cell_type": "code",
   "execution_count": 175,
   "metadata": {},
   "outputs": [
    {
     "data": {
      "text/plain": [
       "0.53"
      ]
     },
     "execution_count": 175,
     "metadata": {},
     "output_type": "execute_result"
    }
   ],
   "source": [
    "# Calculate the correlation coefficient\n",
    "# for mouse weight and average tumor volume for the Capomulin regimen\n",
    "round(st.pearsonr(volume_vs_weight['Tumor Volume (mm3)'], volume_vs_weight['Weight (g)'])[0],2)"
   ]
  },
  {
   "cell_type": "code",
   "execution_count": 217,
   "metadata": {},
   "outputs": [
    {
     "data": {
      "image/png": "[encoded data removed]",
      "text/plain": [
       "<Figure size 432x288 with 1 Axes>"
      ]
     },
     "metadata": {
      "needs_background": "light"
     },
     "output_type": "display_data"
    }
   ],
   "source": [
    "# And linear regression mod\n",
    "x_values = volume_vs_weight['Tumor Volume (mm3)']\n",
    "y_values = volume_vs_weight['Weight (g)']\n",
    "(slope, intercept, rvalue, pvalue, stderr) = linregress(x_values, y_values)\n",
    "regress_values = x_values * slope + intercept\n",
    "plt.scatter(x_values,y_values)\n",
    "plt.plot(x_values,regress_values,'r-')\n",
    "plt.xlabel('Tumor Volume (mm3)')\n",
    "plt.ylabel('Weight (g)')\n",
    "plt.show()"
   ]
  },
  {
   "cell_type": "code",
   "execution_count": null,
   "metadata": {},
   "outputs": [],
   "source": []
  }
 ],
 "metadata": {
  "anaconda-cloud": {},
  "kernelspec": {
   "display_name": "PythonData",
   "language": "python",
   "name": "pythondata"
  },
  "language_info": {
   "codemirror_mode": {
    "name": "ipython",
    "version": 3
   },
   "file_extension": ".py",
   "mimetype": "text/x-python",
   "name": "python",
   "nbconvert_exporter": "python",
   "pygments_lexer": "ipython3",
   "version": "3.7.11"
  }
 },
 "nbformat": 4,
 "nbformat_minor": 4
}
